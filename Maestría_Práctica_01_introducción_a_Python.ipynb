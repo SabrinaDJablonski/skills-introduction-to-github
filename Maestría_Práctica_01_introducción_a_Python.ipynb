{
  "nbformat": 4,
  "nbformat_minor": 0,
  "metadata": {
    "colab": {
      "provenance": [],
      "include_colab_link": true
    },
    "kernelspec": {
      "name": "python3",
      "display_name": "Python 3"
    },
    "language_info": {
      "name": "python"
    }
  },
  "cells": [
    {
      "cell_type": "markdown",
      "metadata": {
        "id": "view-in-github",
        "colab_type": "text"
      },
      "source": [
        "<a href=\"https://colab.research.google.com/github/SabrinaDJablonski/skills-introduction-to-github/blob/main/Maestr%C3%ADa_Pr%C3%A1ctica_01_introducci%C3%B3n_a_Python.ipynb\" target=\"_parent\"><img src=\"https://colab.research.google.com/assets/colab-badge.svg\" alt=\"Open In Colab\"/></a>"
      ]
    },
    {
      "cell_type": "markdown",
      "source": [
        "#Introducción"
      ],
      "metadata": {
        "id": "nP0EuE9Y724M"
      }
    },
    {
      "cell_type": "markdown",
      "source": [
        "Objetos: lista, tupla y diccionario"
      ],
      "metadata": {
        "id": "20iYidp-Urv3"
      }
    },
    {
      "cell_type": "code",
      "source": [
        "x = [3,2,9,5,1,7,4]\n",
        "x"
      ],
      "metadata": {
        "colab": {
          "base_uri": "https://localhost:8080/"
        },
        "id": "UDU1MuwsUvlx",
        "outputId": "9ea1c669-d6bd-4215-edd8-d588b6bb22c2"
      },
      "execution_count": 1,
      "outputs": [
        {
          "output_type": "execute_result",
          "data": {
            "text/plain": [
              "[3, 2, 9, 5, 1, 7, 4]"
            ]
          },
          "metadata": {},
          "execution_count": 1
        }
      ]
    },
    {
      "cell_type": "code",
      "source": [
        "type(x) #generalmente usamos la lista para almacenar elementos del mismo tipo, numeros, strings, etc."
      ],
      "metadata": {
        "colab": {
          "base_uri": "https://localhost:8080/"
        },
        "id": "UhuRAyXWU0TZ",
        "outputId": "1fdae668-6eca-46d3-ddef-69da4f34982d"
      },
      "execution_count": null,
      "outputs": [
        {
          "output_type": "execute_result",
          "data": {
            "text/plain": [
              "list"
            ]
          },
          "metadata": {},
          "execution_count": 2
        }
      ]
    },
    {
      "cell_type": "code",
      "source": [
        "a = (1, 2, 3, 4) #tuple\n",
        "a"
      ],
      "metadata": {
        "colab": {
          "base_uri": "https://localhost:8080/"
        },
        "id": "BypUcYvelzAS",
        "outputId": "f9a4dd72-d17a-443a-ba73-fe895000f741"
      },
      "execution_count": 2,
      "outputs": [
        {
          "output_type": "execute_result",
          "data": {
            "text/plain": [
              "(1, 2, 3, 4)"
            ]
          },
          "metadata": {},
          "execution_count": 2
        }
      ]
    },
    {
      "cell_type": "code",
      "source": [
        "type(a) #una tupla puede usarse para almacenar diferentes tipos de objetos.  son inmutables, por lo que append no funcionaria"
      ],
      "metadata": {
        "colab": {
          "base_uri": "https://localhost:8080/"
        },
        "id": "M-yqCxjhVJek",
        "outputId": "e55b8c22-2306-46e7-ac45-4ad084787337"
      },
      "execution_count": 3,
      "outputs": [
        {
          "output_type": "execute_result",
          "data": {
            "text/plain": [
              "tuple"
            ]
          },
          "metadata": {},
          "execution_count": 3
        }
      ]
    },
    {
      "cell_type": "code",
      "source": [
        "#Dictionay: Dictionaries are typically created using curly braces {} with key-value pairs separated by colons : and individual pairs separated by commas ,.\n",
        "b = {'Argentina': 'CABA', 'Brazil': 'San Pablo', 'Uruguay': 'Montevideo', 'Chile':'Santiago'} #siempre en el formato {key:value}, siempre tiene que haber un value asociado a key.\n",
        "b"
      ],
      "metadata": {
        "colab": {
          "base_uri": "https://localhost:8080/"
        },
        "id": "y25PY61ymGyk",
        "outputId": "1072b360-2474-4dca-976b-925a610afa14"
      },
      "execution_count": 4,
      "outputs": [
        {
          "output_type": "execute_result",
          "data": {
            "text/plain": [
              "{'Argentina': 'CABA',\n",
              " 'Brazil': 'San Pablo',\n",
              " 'Uruguay': 'Montevideo',\n",
              " 'Chile': 'Santiago'}"
            ]
          },
          "metadata": {},
          "execution_count": 4
        }
      ]
    },
    {
      "cell_type": "code",
      "source": [
        "x = 1000.35\n",
        "type(x)"
      ],
      "metadata": {
        "id": "12Y5dNPc8Dpz",
        "colab": {
          "base_uri": "https://localhost:8080/"
        },
        "outputId": "80d36003-216e-43d6-cab6-bbebb640c4ca"
      },
      "execution_count": 5,
      "outputs": [
        {
          "output_type": "execute_result",
          "data": {
            "text/plain": [
              "float"
            ]
          },
          "metadata": {},
          "execution_count": 5
        }
      ]
    },
    {
      "cell_type": "code",
      "source": [
        "print(x)\n",
        "x = \"hello world\"\n",
        "print(x)"
      ],
      "metadata": {
        "id": "YalABJC88L-y",
        "colab": {
          "base_uri": "https://localhost:8080/"
        },
        "outputId": "687b15d7-8d9e-4596-a817-1f9dd41e04c7"
      },
      "execution_count": 6,
      "outputs": [
        {
          "output_type": "stream",
          "name": "stdout",
          "text": [
            "1000.35\n",
            "hello world\n"
          ]
        }
      ]
    },
    {
      "cell_type": "code",
      "source": [
        "x = [3, 2 ,9]\n",
        "y = x\n",
        "print(y,x)"
      ],
      "metadata": {
        "id": "E5RRuRmd8RIY",
        "colab": {
          "base_uri": "https://localhost:8080/"
        },
        "outputId": "6c8850c9-1206-4982-ddd1-7054c93b3fec"
      },
      "execution_count": 7,
      "outputs": [
        {
          "output_type": "stream",
          "name": "stdout",
          "text": [
            "[3, 2, 9] [3, 2, 9]\n"
          ]
        }
      ]
    },
    {
      "cell_type": "code",
      "source": [
        "x.append(4) #append se usa para una lista, no para una tupla\n",
        "print(y)"
      ],
      "metadata": {
        "id": "5vI593i88ZM8",
        "colab": {
          "base_uri": "https://localhost:8080/"
        },
        "outputId": "30a8d3e2-cab5-4d8b-d444-1a7e211e4e26"
      },
      "execution_count": 8,
      "outputs": [
        {
          "output_type": "stream",
          "name": "stdout",
          "text": [
            "[3, 2, 9, 4]\n"
          ]
        }
      ]
    },
    {
      "cell_type": "code",
      "source": [
        "x=5\n",
        "print(x,y)"
      ],
      "metadata": {
        "id": "o0sEsz9-8fG8",
        "colab": {
          "base_uri": "https://localhost:8080/"
        },
        "outputId": "53d981e5-2089-4ce8-ba52-58e3592d45af"
      },
      "execution_count": 9,
      "outputs": [
        {
          "output_type": "stream",
          "name": "stdout",
          "text": [
            "5 [3, 2, 9, 4]\n"
          ]
        }
      ]
    },
    {
      "cell_type": "code",
      "source": [
        "a = (1, 2, 3, 4)\n",
        "a[0] #[] indica la ubicacion \"Python uses zero-based indexing, so the first element has index 0\""
      ],
      "metadata": {
        "colab": {
          "base_uri": "https://localhost:8080/"
        },
        "id": "X1M1Wp_1XRA_",
        "outputId": "a94f2f54-6672-4e42-c551-775648eba6a4"
      },
      "execution_count": 10,
      "outputs": [
        {
          "output_type": "execute_result",
          "data": {
            "text/plain": [
              "1"
            ]
          },
          "metadata": {},
          "execution_count": 10
        }
      ]
    },
    {
      "cell_type": "code",
      "source": [
        "a.index(2)"
      ],
      "metadata": {
        "colab": {
          "base_uri": "https://localhost:8080/"
        },
        "id": "PHF6rKAchGKt",
        "outputId": "bae16c1f-0282-45b0-ca5c-96589e9ae49b"
      },
      "execution_count": 11,
      "outputs": [
        {
          "output_type": "execute_result",
          "data": {
            "text/plain": [
              "1"
            ]
          },
          "metadata": {},
          "execution_count": 11
        }
      ]
    },
    {
      "cell_type": "code",
      "source": [
        "a[-4]"
      ],
      "metadata": {
        "colab": {
          "base_uri": "https://localhost:8080/"
        },
        "id": "t4TehoYIXXPx",
        "outputId": "7117f83c-5c0d-4540-df21-5d06e4a86809"
      },
      "execution_count": 12,
      "outputs": [
        {
          "output_type": "execute_result",
          "data": {
            "text/plain": [
              "1"
            ]
          },
          "metadata": {},
          "execution_count": 12
        }
      ]
    },
    {
      "cell_type": "code",
      "source": [
        "a[1:10] #slicing"
      ],
      "metadata": {
        "colab": {
          "base_uri": "https://localhost:8080/"
        },
        "id": "Do8bcabqXc-m",
        "outputId": "4cdd2330-ff3b-49d3-a584-27280a9457a5"
      },
      "execution_count": 15,
      "outputs": [
        {
          "output_type": "execute_result",
          "data": {
            "text/plain": [
              "(2, 3, 4)"
            ]
          },
          "metadata": {},
          "execution_count": 15
        }
      ]
    },
    {
      "cell_type": "markdown",
      "source": [
        "##Ejercicios"
      ],
      "metadata": {
        "id": "Whq1HmuweS4y"
      }
    },
    {
      "cell_type": "code",
      "source": [
        "planets = ['Mercury', 'Venus', 'Earth', 'Mars', 'Jupiter', 'Saturn', 'Uranus', 'Neptune']\n",
        "planets"
      ],
      "metadata": {
        "colab": {
          "base_uri": "https://localhost:8080/"
        },
        "id": "CR4c2THaeWAr",
        "outputId": "6b88cc56-1b63-41cf-ef12-8096b557483e"
      },
      "execution_count": 16,
      "outputs": [
        {
          "output_type": "execute_result",
          "data": {
            "text/plain": [
              "['Mercury', 'Venus', 'Earth', 'Mars', 'Jupiter', 'Saturn', 'Uranus', 'Neptune']"
            ]
          },
          "metadata": {},
          "execution_count": 16
        }
      ]
    },
    {
      "cell_type": "code",
      "source": [
        "cercano=planets[0]\n",
        "lejano=planets[7]\n",
        "primeros_3=planets[0:3]\n",
        "ultimos_3=planets[-3:]\n",
        "planets.append('Tatooine')\n",
        "cercano, lejano, primeros_3, ultimos_3, planets"
      ],
      "metadata": {
        "id": "goK8lKTN3bKU",
        "outputId": "de05526c-d5ea-4583-85eb-e95b61fdd4b4",
        "colab": {
          "base_uri": "https://localhost:8080/"
        }
      },
      "execution_count": 21,
      "outputs": [
        {
          "output_type": "execute_result",
          "data": {
            "text/plain": [
              "('Mercury',\n",
              " 'Neptune',\n",
              " ['Mercury', 'Venus', 'Earth'],\n",
              " ['Saturn', 'Uranus', 'Neptune'],\n",
              " ['Mercury',\n",
              "  'Venus',\n",
              "  'Earth',\n",
              "  'Mars',\n",
              "  'Jupiter',\n",
              "  'Saturn',\n",
              "  'Uranus',\n",
              "  'Neptune',\n",
              "  'Tatooine'])"
            ]
          },
          "metadata": {},
          "execution_count": 21
        }
      ]
    },
    {
      "cell_type": "markdown",
      "source": [
        "Cuál es el planeta más cercano al sol?\n",
        "\n",
        "Cuál es el planeta más lejano del sol?\n",
        "\n",
        "Cuáles son los 3 primeros planetas?\n",
        "\n",
        "Cuáles son los últimos 3 planetas?\n",
        "\n",
        "Cómo agrego el planeta Tatooine al final de la lista?"
      ],
      "metadata": {
        "id": "xXMeR62seX7C"
      }
    },
    {
      "cell_type": "code",
      "source": [
        "planets[0]"
      ],
      "metadata": {
        "colab": {
          "base_uri": "https://localhost:8080/",
          "height": 35
        },
        "id": "TL0WiOogVxkY",
        "outputId": "52d57f76-af15-4700-a515-0fda54bdecf8"
      },
      "execution_count": null,
      "outputs": [
        {
          "output_type": "execute_result",
          "data": {
            "text/plain": [
              "'Mercury'"
            ],
            "application/vnd.google.colaboratory.intrinsic+json": {
              "type": "string"
            }
          },
          "metadata": {},
          "execution_count": 64
        }
      ]
    },
    {
      "cell_type": "code",
      "source": [
        "planets[-1]"
      ],
      "metadata": {
        "colab": {
          "base_uri": "https://localhost:8080/",
          "height": 35
        },
        "id": "kQiqpkEXWU_u",
        "outputId": "7ea6edd9-8694-4f8e-8ba2-19ec8c6c9928"
      },
      "execution_count": null,
      "outputs": [
        {
          "output_type": "execute_result",
          "data": {
            "text/plain": [
              "'Neptune'"
            ],
            "application/vnd.google.colaboratory.intrinsic+json": {
              "type": "string"
            }
          },
          "metadata": {},
          "execution_count": 63
        }
      ]
    },
    {
      "cell_type": "code",
      "source": [
        "planets[:3]"
      ],
      "metadata": {
        "colab": {
          "base_uri": "https://localhost:8080/"
        },
        "id": "lvqoJgEwWMek",
        "outputId": "82ca08e6-0759-4742-b496-90455df68a6e"
      },
      "execution_count": null,
      "outputs": [
        {
          "output_type": "execute_result",
          "data": {
            "text/plain": [
              "['Mercury', 'Venus', 'Earth']"
            ]
          },
          "metadata": {},
          "execution_count": 60
        }
      ]
    },
    {
      "cell_type": "code",
      "source": [
        "planets[-3:]"
      ],
      "metadata": {
        "colab": {
          "base_uri": "https://localhost:8080/"
        },
        "id": "xjhKJ5AJWVv3",
        "outputId": "e47023d3-769d-4a41-83fc-a9e484ec8664"
      },
      "execution_count": null,
      "outputs": [
        {
          "output_type": "execute_result",
          "data": {
            "text/plain": [
              "['Saturn', 'Uranus', 'Neptune']"
            ]
          },
          "metadata": {},
          "execution_count": 62
        }
      ]
    },
    {
      "cell_type": "code",
      "source": [
        "planets.append('Tatooine')\n",
        "planets"
      ],
      "metadata": {
        "colab": {
          "base_uri": "https://localhost:8080/"
        },
        "id": "gCEW_ZVTmL3L",
        "outputId": "38dfe47d-2bc3-46ba-c55d-939053c99b7c"
      },
      "execution_count": null,
      "outputs": [
        {
          "output_type": "execute_result",
          "data": {
            "text/plain": [
              "['Mercury',\n",
              " 'Venus',\n",
              " 'Earth',\n",
              " 'Mars',\n",
              " 'Jupiter',\n",
              " 'Saturn',\n",
              " 'Uranus',\n",
              " 'Neptune',\n",
              " 'Tatooine']"
            ]
          },
          "metadata": {},
          "execution_count": 16
        }
      ]
    },
    {
      "cell_type": "code",
      "source": [
        "#quiero reemplazar un planeta que se llama \"Tatooine\" en el 3er lugar\n",
        "planets[2]='Tatooine'\n",
        "planets"
      ],
      "metadata": {
        "colab": {
          "base_uri": "https://localhost:8080/"
        },
        "id": "cLJww5RdeR7d",
        "outputId": "95fdfe3c-56f9-4360-d8c1-228de8e54931"
      },
      "execution_count": 22,
      "outputs": [
        {
          "output_type": "execute_result",
          "data": {
            "text/plain": [
              "['Mercury',\n",
              " 'Venus',\n",
              " 'Tatooine',\n",
              " 'Mars',\n",
              " 'Jupiter',\n",
              " 'Saturn',\n",
              " 'Uranus',\n",
              " 'Neptune',\n",
              " 'Tatooine']"
            ]
          },
          "metadata": {},
          "execution_count": 22
        }
      ]
    },
    {
      "cell_type": "code",
      "source": [
        "del planets[2] #eliminar 'Tatooine' para que no aparezca 2 veces.\n",
        "planets\n",
        "planets.insert(2,'Tatooine')\n",
        "planets"
      ],
      "metadata": {
        "colab": {
          "base_uri": "https://localhost:8080/"
        },
        "id": "kSEJysA7nk-F",
        "outputId": "b6dee7f9-4058-4328-91ae-b7ac383aa2a5"
      },
      "execution_count": 23,
      "outputs": [
        {
          "output_type": "execute_result",
          "data": {
            "text/plain": [
              "['Mercury',\n",
              " 'Venus',\n",
              " 'Tatooine',\n",
              " 'Mars',\n",
              " 'Jupiter',\n",
              " 'Saturn',\n",
              " 'Uranus',\n",
              " 'Neptune',\n",
              " 'Tatooine']"
            ]
          },
          "metadata": {},
          "execution_count": 23
        }
      ]
    },
    {
      "cell_type": "code",
      "source": [
        "len(planets)"
      ],
      "metadata": {
        "colab": {
          "base_uri": "https://localhost:8080/"
        },
        "id": "wxByUlKah0Ev",
        "outputId": "ce1a21f8-77fa-4d55-ca42-fdd2f1dca6b5"
      },
      "execution_count": 24,
      "outputs": [
        {
          "output_type": "execute_result",
          "data": {
            "text/plain": [
              "9"
            ]
          },
          "metadata": {},
          "execution_count": 24
        }
      ]
    },
    {
      "cell_type": "markdown",
      "source": [
        "# Operadores"
      ],
      "metadata": {
        "id": "IgVnXUpv8ih1"
      }
    },
    {
      "cell_type": "code",
      "execution_count": 25,
      "metadata": {
        "colab": {
          "base_uri": "https://localhost:8080/"
        },
        "id": "vKfV2rZzXLz0",
        "outputId": "72d592bc-5298-4bc6-c95d-f707b4f99ee5"
      },
      "outputs": [
        {
          "output_type": "stream",
          "name": "stdout",
          "text": [
            "16.3\n"
          ]
        }
      ],
      "source": [
        "x = 15 + 1.3\n",
        "\n",
        "print(x)"
      ]
    },
    {
      "cell_type": "code",
      "source": [
        "x = 40\n",
        "y = 12\n",
        "\n",
        "add = x + y\n",
        "sub = x - y\n",
        "pro = x * y\n",
        "div = x / y\n",
        "\n",
        "print(add)\n",
        "print(sub)\n",
        "print(pro)\n",
        "print(div)"
      ],
      "metadata": {
        "colab": {
          "base_uri": "https://localhost:8080/"
        },
        "id": "FbXFdY1ZasT9",
        "outputId": "6b4a9804-8122-4566-bb78-c373e94526ba"
      },
      "execution_count": 26,
      "outputs": [
        {
          "output_type": "stream",
          "name": "stdout",
          "text": [
            "52\n",
            "28\n",
            "480\n",
            "3.3333333333333335\n"
          ]
        }
      ]
    },
    {
      "cell_type": "code",
      "source": [
        "a = 13.2\n",
        "b = 12.57\n",
        "\n",
        "c = a + int(b) #Suma solo la parte entera de b\n",
        "print(c)"
      ],
      "metadata": {
        "colab": {
          "base_uri": "https://localhost:8080/"
        },
        "id": "SVN3NDWqbFHQ",
        "outputId": "4703c911-51ce-4670-ac6e-fa854b94ae65"
      },
      "execution_count": 27,
      "outputs": [
        {
          "output_type": "stream",
          "name": "stdout",
          "text": [
            "25.2\n"
          ]
        }
      ]
    },
    {
      "cell_type": "code",
      "source": [
        "a = 13\n",
        "b = 5\n",
        "\n",
        "c = a / b\n",
        "print(c)"
      ],
      "metadata": {
        "colab": {
          "base_uri": "https://localhost:8080/"
        },
        "id": "n7FX9R68bYki",
        "outputId": "ab9fafc5-9554-4aaf-e029-ff4db272a342"
      },
      "execution_count": 28,
      "outputs": [
        {
          "output_type": "stream",
          "name": "stdout",
          "text": [
            "2.6\n"
          ]
        }
      ]
    },
    {
      "cell_type": "code",
      "source": [
        "numbers = [2, 4, 6, 8]\n",
        "x = [12, 14, 18]\n",
        "numbers + x"
      ],
      "metadata": {
        "colab": {
          "base_uri": "https://localhost:8080/"
        },
        "id": "fwKeQPtQYYsY",
        "outputId": "945bf7ab-587a-43ac-9f16-8f789d1ce05c"
      },
      "execution_count": 29,
      "outputs": [
        {
          "output_type": "execute_result",
          "data": {
            "text/plain": [
              "[2, 4, 6, 8, 12, 14, 18]"
            ]
          },
          "metadata": {},
          "execution_count": 29
        }
      ]
    },
    {
      "cell_type": "code",
      "source": [
        "numbers.reverse()\n",
        "numbers"
      ],
      "metadata": {
        "colab": {
          "base_uri": "https://localhost:8080/"
        },
        "id": "bAwlkqR7YkvT",
        "outputId": "11cb51c6-956d-4e32-8db1-b33fe2ca5fd9"
      },
      "execution_count": null,
      "outputs": [
        {
          "output_type": "execute_result",
          "data": {
            "text/plain": [
              "[8, 6, 4, 2]"
            ]
          },
          "metadata": {},
          "execution_count": 25
        }
      ]
    },
    {
      "cell_type": "code",
      "source": [
        "numbers.sort() #por default es ascendente\n",
        "numbers"
      ],
      "metadata": {
        "colab": {
          "base_uri": "https://localhost:8080/"
        },
        "id": "XpnXj-OCY5fj",
        "outputId": "6f693365-2490-4a0c-ca40-a01dcf1535fd"
      },
      "execution_count": null,
      "outputs": [
        {
          "output_type": "execute_result",
          "data": {
            "text/plain": [
              "[2, 4, 6, 8]"
            ]
          },
          "metadata": {},
          "execution_count": 26
        }
      ]
    },
    {
      "cell_type": "code",
      "source": [
        "numbers.sort(reverse=True) #ordenar en forma descendente\n",
        "numbers"
      ],
      "metadata": {
        "colab": {
          "base_uri": "https://localhost:8080/"
        },
        "id": "yko9Q_tQZZEJ",
        "outputId": "973030f8-32ed-40fa-fbdf-34ac208d7a1c"
      },
      "execution_count": null,
      "outputs": [
        {
          "output_type": "execute_result",
          "data": {
            "text/plain": [
              "[8, 6, 4, 2]"
            ]
          },
          "metadata": {},
          "execution_count": 27
        }
      ]
    },
    {
      "cell_type": "markdown",
      "source": [
        "For"
      ],
      "metadata": {
        "id": "q0jfagLYh7LE"
      }
    },
    {
      "cell_type": "code",
      "source": [
        "planets = ['Mercury', 'Venus', 'Earth', 'Mars', 'Jupiter', 'Saturn', 'Uranus', 'Neptune']\n",
        "for planet in planets:\n",
        "    print(planet, end=' ') # print all on same line, end=' ' means there is a space between each planet"
      ],
      "metadata": {
        "colab": {
          "base_uri": "https://localhost:8080/"
        },
        "id": "_A5tlErQgzrt",
        "outputId": "f530185b-9afa-48c7-f732-b91048572e26"
      },
      "execution_count": null,
      "outputs": [
        {
          "output_type": "stream",
          "name": "stdout",
          "text": [
            "Mercury Venus Earth Mars Jupiter Saturn Uranus Neptune "
          ]
        }
      ]
    },
    {
      "cell_type": "code",
      "source": [
        "a = [1, 1, 2, 3, 5, 8, 13, 21, 34, 55, 89]\n",
        "for number in a:\n",
        "    if number < 55:\n",
        "        print(number, end=' ')"
      ],
      "metadata": {
        "colab": {
          "base_uri": "https://localhost:8080/"
        },
        "id": "950xz-lPiBef",
        "outputId": "f4e20141-fd3f-484f-c600-9f5eb58ccf3a"
      },
      "execution_count": null,
      "outputs": [
        {
          "output_type": "stream",
          "name": "stdout",
          "text": [
            "1 1 2 3 5 8 13 21 34 "
          ]
        }
      ]
    },
    {
      "cell_type": "markdown",
      "source": [
        "##Ejercicio: cómo se interpreta el siguiente código?"
      ],
      "metadata": {
        "id": "Lgua8sI5iH7i"
      }
    },
    {
      "cell_type": "code",
      "source": [
        "import random\n",
        "list_1=[]\n",
        "for n in range(7):\n",
        "    n =random.randint(1,101)\n",
        "    list_1.append(n)\n",
        "print(list_1)"
      ],
      "metadata": {
        "colab": {
          "base_uri": "https://localhost:8080/"
        },
        "id": "1KKeXTj2iwdp",
        "outputId": "f7c41463-23df-439b-be8e-68d4da5a1f18"
      },
      "execution_count": null,
      "outputs": [
        {
          "output_type": "stream",
          "name": "stdout",
          "text": [
            "[8, 23, 44, 55, 31, 90, 11]\n"
          ]
        }
      ]
    },
    {
      "cell_type": "markdown",
      "source": [
        "##Crear Dataframe con Pandas"
      ],
      "metadata": {
        "id": "ptcBfgQ_fkD1"
      }
    },
    {
      "cell_type": "code",
      "source": [
        "# import pandas as pd\n",
        "import pandas as pd\n",
        "\n",
        "# List1  Es una lista de listas\n",
        "list1 = [['Amarillo', 25], ['Rojo', 30],\n",
        "       ['Negro', 26], ['Azul', 22]]\n",
        "\n",
        "# creating df object with columns specified\n",
        "df = pd.DataFrame(list1, columns =['color', 'número'])\n",
        "print(df)"
      ],
      "metadata": {
        "colab": {
          "base_uri": "https://localhost:8080/"
        },
        "id": "K4EreYM5fiz4",
        "outputId": "f24f290e-f63b-45a0-aedb-794a3e1c213a"
      },
      "execution_count": null,
      "outputs": [
        {
          "output_type": "stream",
          "name": "stdout",
          "text": [
            "      color  número\n",
            "0  Amarillo      25\n",
            "1      Rojo      30\n",
            "2     Negro      26\n",
            "3      Azul      22\n"
          ]
        }
      ]
    },
    {
      "cell_type": "code",
      "source": [
        "# Two-dimensional list\n",
        "data = [['Martin', 28, 'Analyst'],\n",
        "        ['Micaela', 35, 'Manager'],\n",
        "        ['Mateo', 29, 'Developer']]\n",
        "\n",
        "# Column names\n",
        "columns = ['Name', 'Age', 'Occupation']\n",
        "\n",
        "# Creating DataFrame using pd.DataFrame.from_records()\n",
        "df = pd.DataFrame.from_records(data, columns=columns)\n",
        "\n",
        "# Displaying the DataFrame\n",
        "print(df)"
      ],
      "metadata": {
        "colab": {
          "base_uri": "https://localhost:8080/"
        },
        "id": "hyxCxJo5gTDg",
        "outputId": "e5ff72d6-2181-4784-c9c6-900246856a4b"
      },
      "execution_count": null,
      "outputs": [
        {
          "output_type": "stream",
          "name": "stdout",
          "text": [
            "      Name  Age Occupation\n",
            "0   Martin   28    Analyst\n",
            "1  Micaela   35    Manager\n",
            "2    Mateo   29  Developer\n"
          ]
        }
      ]
    },
    {
      "cell_type": "code",
      "source": [
        "# Creating a DataFrame with different data types from a list of lists\n",
        "data = [['Gabriel', 28, 'Engineer'],\n",
        "        ['Gina', 25, 'Data Scientist'],\n",
        "        ['Gonzalo', '32', 'Manager']]  # Age represented as a string\n",
        "\n",
        "columns = ['Name', 'Age', 'Occupation']\n",
        "\n",
        "df = pd.DataFrame(data, columns=columns)\n",
        "df['Age'] = pd.to_numeric(df['Age'], errors='coerce')  # Convert 'Age' column to numeric, handling errors\n",
        "print(df)"
      ],
      "metadata": {
        "colab": {
          "base_uri": "https://localhost:8080/"
        },
        "id": "rIVTrlQ-jwb-",
        "outputId": "a5d653d2-111e-4dc5-edb4-f9b7c09a59fe"
      },
      "execution_count": null,
      "outputs": [
        {
          "output_type": "stream",
          "name": "stdout",
          "text": [
            "      Name  Age      Occupation\n",
            "0  Gabriel   28        Engineer\n",
            "1     Gina   25  Data Scientist\n",
            "2  Gonzalo   32         Manager\n"
          ]
        }
      ]
    },
    {
      "cell_type": "code",
      "source": [
        "# initialize list of lists\n",
        "data = [[1, 5, 10], [2, 6, 9], [3, 7, 8]]\n",
        "\n",
        "# Create the pandas DataFrame\n",
        "df = pd.DataFrame(data)\n",
        "\n",
        "# specifying column names\n",
        "df.columns = ['Col_1', 'Col_2', 'Col_3']\n",
        "\n",
        "# print dataframe.\n",
        "print(df, \"\\n\") #cambio de fila\n",
        "\n",
        "# transpose of dataframe\n",
        "df = df.transpose()\n",
        "print(\"Transpose of above dataframe is-\\n\", df)"
      ],
      "metadata": {
        "colab": {
          "base_uri": "https://localhost:8080/"
        },
        "id": "KW6yMRTQkHh8",
        "outputId": "66eec4e3-0cae-4ef4-c2f0-4e9ff8cfcaf6"
      },
      "execution_count": null,
      "outputs": [
        {
          "output_type": "stream",
          "name": "stdout",
          "text": [
            "   Col_1  Col_2  Col_3\n",
            "0      1      5     10\n",
            "1      2      6      9\n",
            "2      3      7      8 \n",
            "\n",
            "Transpose of above dataframe is-\n",
            "         0  1  2\n",
            "Col_1   1  2  3\n",
            "Col_2   5  6  7\n",
            "Col_3  10  9  8\n"
          ]
        }
      ]
    },
    {
      "cell_type": "code",
      "source": [
        "# data in the form of list of tuples\n",
        "data = [('Peter', 18, 7),\n",
        "        ('Riff', 15, 6),\n",
        "        ('John', 17, 8),\n",
        "        ('Michel', 18, 7),\n",
        "        ('Sheli', 17, 5) ]\n",
        "\n",
        "# create DataFrame using data\n",
        "df = pd.DataFrame(data, columns =['Name', 'Age', 'Score'])\n",
        "\n",
        "print(df)"
      ],
      "metadata": {
        "colab": {
          "base_uri": "https://localhost:8080/"
        },
        "id": "3zg1-6IemQVV",
        "outputId": "6d9ba64a-d6d1-4435-fd03-4b00760b935f"
      },
      "execution_count": null,
      "outputs": [
        {
          "output_type": "stream",
          "name": "stdout",
          "text": [
            "     Name  Age  Score\n",
            "0   Peter   18      7\n",
            "1    Riff   15      6\n",
            "2    John   17      8\n",
            "3  Michel   18      7\n",
            "4   Sheli   17      5\n"
          ]
        }
      ]
    },
    {
      "cell_type": "code",
      "source": [
        "# Initialise data to lists.\n",
        "data = [{'Alice': 'book', 'in': 'for', 'Wonderland': 'children'},\n",
        "        {'Alice':10, 'in': 20, 'Wonderland': 30}]\n",
        "\n",
        "df = pd.DataFrame.from_records(data,index=['1', '2'])\n",
        "print(df)"
      ],
      "metadata": {
        "colab": {
          "base_uri": "https://localhost:8080/"
        },
        "id": "7EMQVqkImzd6",
        "outputId": "dabd91ac-0c2e-41ce-c70c-8ad586ee1551"
      },
      "execution_count": null,
      "outputs": [
        {
          "output_type": "stream",
          "name": "stdout",
          "text": [
            "  Alice   in Wonderland\n",
            "1  book  for   children\n",
            "2    10   20         30\n"
          ]
        }
      ]
    },
    {
      "cell_type": "markdown",
      "source": [
        "##Ejercicio en clase\n",
        "###Armar un dataframe de 5 filas con paises y su capital correspondiente"
      ],
      "metadata": {
        "id": "5EAvn5jDh2sG"
      }
    },
    {
      "cell_type": "code",
      "source": [
        "# import pandas as pd\n",
        "import pandas as pd\n",
        "\n",
        "# List1  Es una lista de listas\n",
        "lst = [['Argentina', 'CABA'], ['Francia', 'Paris'],\n",
        "       ['China', 'Beijing'], ['Canada', 'Otawa'],['Australia','Canberra']]\n",
        "\n",
        "# creating df object with columns specified\n",
        "df = pd.DataFrame(lst, columns =['Pais', 'Capital'])\n",
        "print(df)"
      ],
      "metadata": {
        "colab": {
          "base_uri": "https://localhost:8080/"
        },
        "id": "zkEpvwj_h1_x",
        "outputId": "9fbe4df8-bfff-4ebd-a9bd-42111392734e"
      },
      "execution_count": null,
      "outputs": [
        {
          "output_type": "stream",
          "name": "stdout",
          "text": [
            "        Pais   Capital\n",
            "0  Argentina      CABA\n",
            "1    Francia     Paris\n",
            "2      China   Beijing\n",
            "3     Canada     Otawa\n",
            "4  Australia  Canberra\n"
          ]
        }
      ]
    },
    {
      "cell_type": "markdown",
      "source": [
        "##Numpy"
      ],
      "metadata": {
        "id": "bKDKHDVPoAw0"
      }
    },
    {
      "cell_type": "code",
      "source": [
        "import numpy as np\n",
        "\n",
        "empty_array_2d = np.empty((3, 4)) #crear vectores con 0\n",
        "print(empty_array_2d)"
      ],
      "metadata": {
        "colab": {
          "base_uri": "https://localhost:8080/"
        },
        "id": "aD6dzp7vn_8y",
        "outputId": "beed9c1a-8cb3-4b48-ad56-001d6568adf8"
      },
      "execution_count": null,
      "outputs": [
        {
          "output_type": "stream",
          "name": "stdout",
          "text": [
            "[[5.22504260e-315 0.00000000e+000 2.10077583e-312 6.79038654e-313]\n",
            " [2.22809558e-312 2.14321575e-312 2.35541533e-312 6.79038654e-313]\n",
            " [2.22809558e-312 2.14321575e-312 2.46151512e-312 2.41907520e-312]]\n"
          ]
        }
      ]
    },
    {
      "cell_type": "code",
      "source": [
        "full_array_2d = np.full((3, 4), 5) #crear vectores con 5\n",
        "print(full_array_2d)"
      ],
      "metadata": {
        "colab": {
          "base_uri": "https://localhost:8080/"
        },
        "id": "VxpSrzT0oLdM",
        "outputId": "cc44cb04-325f-4994-f8b9-3831ed425a57"
      },
      "execution_count": null,
      "outputs": [
        {
          "output_type": "stream",
          "name": "stdout",
          "text": [
            "[[5 5 5 5]\n",
            " [5 5 5 5]\n",
            " [5 5 5 5]]\n"
          ]
        }
      ]
    },
    {
      "cell_type": "code",
      "source": [
        "import numpy as np\n",
        "\n",
        "# declare matrix with np\n",
        "M = np.array([[2, 3], [4, 5]])\n",
        "\n",
        "# using array.flatten() method\n",
        "flat_M = M.flatten()\n",
        "print(flat_M)"
      ],
      "metadata": {
        "colab": {
          "base_uri": "https://localhost:8080/"
        },
        "id": "p-ILNL19oZsL",
        "outputId": "a7279123-fc6f-41b5-a355-67817b1ad88a"
      },
      "execution_count": null,
      "outputs": [
        {
          "output_type": "stream",
          "name": "stdout",
          "text": [
            "[2 3 4 5]\n"
          ]
        }
      ]
    },
    {
      "cell_type": "code",
      "source": [
        "# Create a numpy array\n",
        "arr = np.array([10, 20, 30, 40, 50])\n",
        "# Print the array\n",
        "print(arr)"
      ],
      "metadata": {
        "colab": {
          "base_uri": "https://localhost:8080/"
        },
        "id": "0T28xzVZdE9u",
        "outputId": "54142db0-24f6-4ae4-d43e-77c3a3bb2d5a"
      },
      "execution_count": null,
      "outputs": [
        {
          "output_type": "stream",
          "name": "stdout",
          "text": [
            "[10 20 30 40 50]\n"
          ]
        }
      ]
    },
    {
      "cell_type": "code",
      "source": [
        "print(arr.dtype)"
      ],
      "metadata": {
        "colab": {
          "base_uri": "https://localhost:8080/"
        },
        "id": "Iaxee8obdI6V",
        "outputId": "8a8f4bab-3a9c-4f68-8f44-208c36f222c1"
      },
      "execution_count": null,
      "outputs": [
        {
          "output_type": "stream",
          "name": "stdout",
          "text": [
            "int64\n"
          ]
        }
      ]
    },
    {
      "cell_type": "code",
      "source": [
        "# change the dtype to 'float64'\n",
        "arr = arr.astype('float64')\n",
        "print(arr)\n",
        "\n",
        "# print the data type\n",
        "print(arr.dtype)"
      ],
      "metadata": {
        "colab": {
          "base_uri": "https://localhost:8080/"
        },
        "id": "B7KbOh40dMf8",
        "outputId": "c0ce3b7f-195b-41fc-f0a2-adaca27a9244"
      },
      "execution_count": null,
      "outputs": [
        {
          "output_type": "stream",
          "name": "stdout",
          "text": [
            "[10. 20. 30. 40. 50.]\n",
            "float64\n"
          ]
        }
      ]
    },
    {
      "cell_type": "code",
      "source": [
        "import pandas as pd\n",
        "import numpy as np\n",
        "\n",
        "# Creating a DataFrame with missing values from a list of lists\n",
        "data = [['Gabriel', 28, 'Engineer'],\n",
        "        ['Gina', None, 'Data Scientist'],\n",
        "        ['Gonzalo', 32, None]]\n",
        "\n",
        "columns = ['Name', 'Age', 'Occupation']\n",
        "\n",
        "df = pd.DataFrame(data, columns=columns)\n",
        "df = df.replace({None: np.nan})  # Replacing None with NaN for missing values\n",
        "print(df)"
      ],
      "metadata": {
        "colab": {
          "base_uri": "https://localhost:8080/"
        },
        "id": "LXN4deGujRmI",
        "outputId": "cc36c62e-130e-4f3a-cd5e-3327c6b5829f"
      },
      "execution_count": null,
      "outputs": [
        {
          "output_type": "stream",
          "name": "stdout",
          "text": [
            "      Name   Age      Occupation\n",
            "0  Gabriel  28.0        Engineer\n",
            "1     Gina   NaN  Data Scientist\n",
            "2  Gonzalo  32.0             NaN\n"
          ]
        }
      ]
    }
  ]
}