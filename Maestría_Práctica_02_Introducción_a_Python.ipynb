{
  "nbformat": 4,
  "nbformat_minor": 0,
  "metadata": {
    "colab": {
      "provenance": [],
      "include_colab_link": true
    },
    "kernelspec": {
      "name": "python3",
      "display_name": "Python 3"
    },
    "language_info": {
      "name": "python"
    }
  },
  "cells": [
    {
      "cell_type": "markdown",
      "metadata": {
        "id": "view-in-github",
        "colab_type": "text"
      },
      "source": [
        "<a href=\"https://colab.research.google.com/github/SabrinaDJablonski/skills-introduction-to-github/blob/main/Maestr%C3%ADa_Pr%C3%A1ctica_02_Introducci%C3%B3n_a_Python.ipynb\" target=\"_parent\"><img src=\"https://colab.research.google.com/assets/colab-badge.svg\" alt=\"Open In Colab\"/></a>"
      ]
    },
    {
      "cell_type": "markdown",
      "source": [
        "###Ejercicios de repaso"
      ],
      "metadata": {
        "id": "oj5iuNVCJyWP"
      }
    },
    {
      "cell_type": "markdown",
      "source": [
        "https://www.w3schools.com/python/python_lists_exercises.asp"
      ],
      "metadata": {
        "id": "qzHjeitMKHkh"
      }
    },
    {
      "cell_type": "markdown",
      "source": [
        "###For Loop"
      ],
      "metadata": {
        "id": "H0t2PWD1QexU"
      }
    },
    {
      "cell_type": "code",
      "source": [
        "fibonacci = [0, 1, 1, 2, 3, 5, 8, 13, 21, 34]\n",
        "a=[]\n",
        "for i in fibonacci:\n",
        "  if i > 10:\n",
        "    a.append(i)\n",
        "print(a)"
      ],
      "metadata": {
        "colab": {
          "base_uri": "https://localhost:8080/"
        },
        "id": "C37nN2rdRTFn",
        "outputId": "744ba971-7e37-440b-9281-198ac3abe89d"
      },
      "execution_count": null,
      "outputs": [
        {
          "output_type": "stream",
          "name": "stdout",
          "text": [
            "[13, 21, 34]\n"
          ]
        }
      ]
    },
    {
      "cell_type": "code",
      "execution_count": null,
      "metadata": {
        "colab": {
          "base_uri": "https://localhost:8080/"
        },
        "id": "w5KEN6i4a7Or",
        "outputId": "f4cb95a1-0ce7-4454-a5e1-f56c4983b33e"
      },
      "outputs": [
        {
          "output_type": "stream",
          "name": "stdout",
          "text": [
            "['S', 'h', 'e', 'r', 'l', 'o', 'c', 'k']\n"
          ]
        }
      ],
      "source": [
        "s = \"Sherlock\"\n",
        "b = []\n",
        "for i in s:\n",
        "  b.append(i)\n",
        "print(b)"
      ]
    },
    {
      "cell_type": "code",
      "source": [
        "for i in range(0, 10, 2):\n",
        "    print(i)"
      ],
      "metadata": {
        "id": "KEaEnQ67QwyC",
        "colab": {
          "base_uri": "https://localhost:8080/"
        },
        "outputId": "7d3ed787-244d-4bd5-ea92-7894d69008b8"
      },
      "execution_count": null,
      "outputs": [
        {
          "output_type": "stream",
          "name": "stdout",
          "text": [
            "0\n",
            "2\n",
            "4\n",
            "6\n",
            "8\n"
          ]
        }
      ]
    },
    {
      "cell_type": "code",
      "source": [
        "l1 = [\"eat\", \"pray\", \"love\"]\n",
        "\n",
        "for count, ele in enumerate(l1):\n",
        "    print (count, ele)"
      ],
      "metadata": {
        "id": "4vTi__5PQzky",
        "colab": {
          "base_uri": "https://localhost:8080/"
        },
        "outputId": "93eff765-28be-48a3-dcac-56c297e9cf37"
      },
      "execution_count": null,
      "outputs": [
        {
          "output_type": "stream",
          "name": "stdout",
          "text": [
            "0 eat\n",
            "1 pray\n",
            "2 love\n"
          ]
        }
      ]
    },
    {
      "cell_type": "code",
      "source": [
        "help(enumerate)"
      ],
      "metadata": {
        "colab": {
          "base_uri": "https://localhost:8080/"
        },
        "collapsed": true,
        "id": "IrpT2yV2S551",
        "outputId": "85f8f524-1faa-4279-8e86-a2af716953ff"
      },
      "execution_count": null,
      "outputs": [
        {
          "output_type": "stream",
          "name": "stdout",
          "text": [
            "Help on class enumerate in module builtins:\n",
            "\n",
            "class enumerate(object)\n",
            " |  enumerate(iterable, start=0)\n",
            " |  \n",
            " |  Return an enumerate object.\n",
            " |  \n",
            " |    iterable\n",
            " |      an object supporting iteration\n",
            " |  \n",
            " |  The enumerate object yields pairs containing a count (from start, which\n",
            " |  defaults to zero) and a value yielded by the iterable argument.\n",
            " |  \n",
            " |  enumerate is useful for obtaining an indexed list:\n",
            " |      (0, seq[0]), (1, seq[1]), (2, seq[2]), ...\n",
            " |  \n",
            " |  Methods defined here:\n",
            " |  \n",
            " |  __getattribute__(self, name, /)\n",
            " |      Return getattr(self, name).\n",
            " |  \n",
            " |  __iter__(self, /)\n",
            " |      Implement iter(self).\n",
            " |  \n",
            " |  __next__(self, /)\n",
            " |      Implement next(self).\n",
            " |  \n",
            " |  __reduce__(...)\n",
            " |      Return state information for pickling.\n",
            " |  \n",
            " |  ----------------------------------------------------------------------\n",
            " |  Class methods defined here:\n",
            " |  \n",
            " |  __class_getitem__(...) from builtins.type\n",
            " |      See PEP 585\n",
            " |  \n",
            " |  ----------------------------------------------------------------------\n",
            " |  Static methods defined here:\n",
            " |  \n",
            " |  __new__(*args, **kwargs) from builtins.type\n",
            " |      Create and return a new object.  See help(type) for accurate signature.\n",
            "\n"
          ]
        }
      ]
    },
    {
      "cell_type": "code",
      "source": [
        "for i in range(1, 4):\n",
        "    for j in range(1, 4):\n",
        "        print(i, j)"
      ],
      "metadata": {
        "id": "DJCRkDKVQ-UN",
        "colab": {
          "base_uri": "https://localhost:8080/"
        },
        "outputId": "d73da522-6ca5-4afd-8ae8-536fd000d10e"
      },
      "execution_count": null,
      "outputs": [
        {
          "output_type": "stream",
          "name": "stdout",
          "text": [
            "1 1\n",
            "1 2\n",
            "1 3\n",
            "2 1\n",
            "2 2\n",
            "2 3\n",
            "3 1\n",
            "3 2\n",
            "3 3\n"
          ]
        }
      ]
    },
    {
      "cell_type": "code",
      "source": [
        "#fruits = [\"apple\", \"banana\", \"cherry\"]\n",
        "fruits = [\"apple\", \"banana\",\"cherry\"]\n",
        "colors = [\"red\", \"yellow\"]\n",
        "for fruit, color in zip(fruits, colors):\n",
        "    print(fruit, \"is\", color)"
      ],
      "metadata": {
        "id": "cS0m0SCARANM",
        "colab": {
          "base_uri": "https://localhost:8080/"
        },
        "outputId": "e1a8be50-cde0-4f80-cb3b-432db1053258"
      },
      "execution_count": null,
      "outputs": [
        {
          "output_type": "stream",
          "name": "stdout",
          "text": [
            "apple is red\n",
            "banana is yellow\n"
          ]
        }
      ]
    },
    {
      "cell_type": "code",
      "source": [
        "person = {'name': 'John', 'age': 30}\n",
        "for key, value in person.items():\n",
        "    print(f'{key}: {value}')"
      ],
      "metadata": {
        "id": "33-6B9EtU9JO",
        "colab": {
          "base_uri": "https://localhost:8080/"
        },
        "outputId": "0cc36ae7-190d-43d6-ab03-99ac31eb0df7"
      },
      "execution_count": null,
      "outputs": [
        {
          "output_type": "stream",
          "name": "stdout",
          "text": [
            "name: John\n",
            "age: 30\n"
          ]
        }
      ]
    },
    {
      "cell_type": "markdown",
      "source": [
        "###Ejercicio:"
      ],
      "metadata": {
        "id": "T4Y4rSSdR-iR"
      }
    },
    {
      "cell_type": "markdown",
      "source": [
        "Para los 7 días de la semana, la distancia que Juan camina todos los días se calcula de la siguiente manera: el número del día se divide por 2, se multiplica por 3 y se suma 0.5. Mostrar el día y la distancia que corresponde. (tip: usar range())"
      ],
      "metadata": {
        "id": "2lDyfAY9So06"
      }
    },
    {
      "cell_type": "code",
      "source": [
        "for dia in range(1, 8):\n",
        "    distancia = (dia / 2) * 3 + 0.5\n",
        "    print(f\"Día {dia}: Run {distancia:.1f} km\")"
      ],
      "metadata": {
        "id": "0NhgasBRSCiN",
        "colab": {
          "base_uri": "https://localhost:8080/"
        },
        "outputId": "d9b03ab3-64ff-44da-ee84-c7e4853bebeb"
      },
      "execution_count": null,
      "outputs": [
        {
          "output_type": "stream",
          "name": "stdout",
          "text": [
            "Día 1: Run 2.0 km\n",
            "Día 2: Run 3.5 km\n",
            "Día 3: Run 5.0 km\n",
            "Día 4: Run 6.5 km\n",
            "Día 5: Run 8.0 km\n",
            "Día 6: Run 9.5 km\n",
            "Día 7: Run 11.0 km\n"
          ]
        }
      ]
    },
    {
      "cell_type": "markdown",
      "source": [
        "Con la siguiente lista: numbers = [1, 2, 3, 4, 5], necesito armar un for loop de manera que voy sumando cada número para saber cuánto es el total.  "
      ],
      "metadata": {
        "id": "PuMU2gbiUlvj"
      }
    },
    {
      "cell_type": "code",
      "source": [
        "#código#\n",
        "numbers = [1, 2, 3, 4, 5]\n",
        "total = 0\n",
        "for num in numbers:\n",
        "    total += num\n",
        "print(f\"El total es: {total}\")"
      ],
      "metadata": {
        "id": "b36iXbt9Vcpf",
        "colab": {
          "base_uri": "https://localhost:8080/"
        },
        "outputId": "1c7d1fa1-3758-49d6-e893-86d9d0dd406e"
      },
      "execution_count": null,
      "outputs": [
        {
          "output_type": "stream",
          "name": "stdout",
          "text": [
            "El total es: 15\n"
          ]
        }
      ]
    },
    {
      "cell_type": "markdown",
      "source": [
        "###List Comprehension\n",
        "Las list comprehension nos permiten crear listas de elementos en una sola línea de código.\n",
        "\n",
        "Sintaxis:\n",
        "\n",
        "lista = [expresión for elemento in iterable]"
      ],
      "metadata": {
        "id": "IXnUkMpVVkE7"
      }
    },
    {
      "cell_type": "code",
      "source": [
        "cuadrados = []\n",
        "for i in range(5):\n",
        "    cuadrados.append(i**2)\n",
        "print(cuadrados)"
      ],
      "metadata": {
        "id": "2w4FLoiiWoOn",
        "colab": {
          "base_uri": "https://localhost:8080/"
        },
        "outputId": "e7abd4fd-1f3d-47dd-9351-769bdf4bb890"
      },
      "execution_count": null,
      "outputs": [
        {
          "output_type": "stream",
          "name": "stdout",
          "text": [
            "[0, 1, 4, 9, 16]\n"
          ]
        }
      ]
    },
    {
      "cell_type": "markdown",
      "source": [
        "Se puede transcribir el código anterior de la siguiente manera:"
      ],
      "metadata": {
        "id": "6ZxIp-ryXIy4"
      }
    },
    {
      "cell_type": "code",
      "source": [
        "cuadrados = [i**2 for i in range(5)]\n",
        "cuadrados"
      ],
      "metadata": {
        "id": "pWnYi-bIXOAe",
        "colab": {
          "base_uri": "https://localhost:8080/"
        },
        "outputId": "eb220f95-fdae-459e-8be0-df039de07be6"
      },
      "execution_count": null,
      "outputs": [
        {
          "output_type": "execute_result",
          "data": {
            "text/plain": [
              "[0, 1, 4, 9, 16]"
            ]
          },
          "metadata": {},
          "execution_count": 14
        }
      ]
    },
    {
      "cell_type": "markdown",
      "source": [
        "###Ejercicios"
      ],
      "metadata": {
        "id": "HMR9wt1VX84z"
      }
    },
    {
      "cell_type": "markdown",
      "source": [
        "Completar el siguiente código para generar una nueva lista dividiendo cada número por 10:"
      ],
      "metadata": {
        "id": "uye1bWzuYJXg"
      }
    },
    {
      "cell_type": "code",
      "source": [
        "list = [10, 20, 30, 40, 50]\n",
        "nueva_lista = [numero / 10 for numero in list]\n",
        "print(nueva_lista)\n",
        "#código#"
      ],
      "metadata": {
        "id": "UXF-OpJ4Xgqt"
      },
      "execution_count": null,
      "outputs": []
    },
    {
      "cell_type": "markdown",
      "source": [
        "Necesito una lista que contiene la cantidad de letras que tiene cada palabra en la frase."
      ],
      "metadata": {
        "id": "5M5p7s0ZYiCh"
      }
    },
    {
      "cell_type": "code",
      "source": [
        "frase = \"El hecho fue denunciado por la encargada del local\"\n",
        "cantidad_letras=[len(palabra) for palabra in frase.split()]\n",
        "print(cantidad_letras)\n",
        "#código#"
      ],
      "metadata": {
        "colab": {
          "base_uri": "https://localhost:8080/"
        },
        "id": "e3pp7u2QYwGz",
        "outputId": "9d6f2714-8191-42d9-dc54-a0179c2aa81e"
      },
      "execution_count": null,
      "outputs": [
        {
          "output_type": "stream",
          "name": "stdout",
          "text": [
            "[2, 5, 3, 10, 3, 2, 9, 3, 5]\n"
          ]
        }
      ]
    }
  ]
}