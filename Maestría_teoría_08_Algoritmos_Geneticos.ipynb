{
  "cells": [
    {
      "cell_type": "markdown",
      "metadata": {
        "id": "view-in-github",
        "colab_type": "text"
      },
      "source": [
        "<a href=\"https://colab.research.google.com/github/SabrinaDJablonski/skills-introduction-to-github/blob/main/Maestr%C3%ADa_teor%C3%ADa_08_Algoritmos_Geneticos.ipynb\" target=\"_parent\"><img src=\"https://colab.research.google.com/assets/colab-badge.svg\" alt=\"Open In Colab\"/></a>"
      ]
    },
    {
      "cell_type": "markdown",
      "metadata": {
        "id": "ivTQ5s0DwMG4"
      },
      "source": [
        "<a href=\"https://colab.research.google.com/github/dieguito1331/cienciaDatos/blob/master/maestria/teoria/08 - Algoritmos Geneticos.ipynb\" target=\"_parent\"><img src=\"https://colab.research.google.com/assets/colab-badge.svg\" alt=\"Open In Colab\"/></a>"
      ]
    },
    {
      "cell_type": "markdown",
      "metadata": {
        "id": "BFAqj3XC6123"
      },
      "source": [
        "# **Algoritmos Genéticos**"
      ]
    },
    {
      "cell_type": "markdown",
      "metadata": {
        "id": "CpmWv8Kw7Ulk"
      },
      "source": [
        "Un algoritmo genético es una búsqueda heurística que está inspirada en la teoría natural de la evolución de Darwin. Este algoritmo refleja el proceso de selección natural, donde los individuos más aptos son seleccionados para reproducirse en orden, para producir descendencia de la siguiente generación.\n",
        "\n",
        "Esta noción de selección natural puede ser aplicado para resolver problemas. Consideramos que un grupo de soluciones para un problema y seleccionamos al mejor grupo de soluciones de todos ellos.\n",
        "\n",
        "Se supone que los individuos (posibles soluciones del problema), pueden representarse como un conjunto de parámetros (que denominaremos genes), los cuales agrupados forman un conjunto de valores, a menudo conocidos como cromosoma. Debe existir una representación de estos genes para poder utilizarlos posteriormente en el algoritmo genético y dotarles de unos valores. Se pueden considerar tres tipos básicos de representación o codificación de los genes:\n",
        "\n",
        "* Binaria: en ella se utiliza un vector cuya longitud es la del número de genes de cada individuo y el valor que puede tomar cada elemento es un número binario  \n",
        "![imagen](https://www.adictosaltrabajo.com/wp-content/uploads/tutorial-data/jgap/cromobinario.jpg)\n",
        "\n",
        "* Entera: en ella se utiliza un vector cuya longitud es la del número de genes de cada individuo y el valor que puede tomar cada elemento es un número entero.\n",
        "![imagen](https://www.adictosaltrabajo.com/wp-content/uploads/tutorial-data/jgap/cromoentero.jpg)\n",
        "\n",
        "* Real: en ella se utiliza un vector cuya longitud es la del número de genes de cada individuo y el valor que puede tomar cada elemento es un número real.\n",
        "![Imagen](https://www.adictosaltrabajo.com/wp-content/uploads/tutorial-data/jgap/cromoreal.jpg)  \n",
        "\n",
        "Un individuo es una solución potencial al problema que se trata. Cada individuo contiene un cromosoma. A un conjunto de individuos se le denomina población. El fitness de un individuo es la evaluación de la función de evaluación e indica qué tan bueno es el individuo (es decir, la solución al problema) con respecto a los demás.\n",
        "\n",
        "\n",
        "1. Comenzar con una población inicial, la cual puede ser generada de manera aleatoria.\n",
        "2. Calcular el fitness (aptitud) de cada individuo.\n",
        "3. Aplicar el operador de selección con base en el fitness de la población.\n",
        "4. Aplicar los operadores genéticos de reproducción, cruce y mutación a la población actual para generar a la población de la siguiente generación.\n",
        "5. Ir al paso 2 hasta que la condición de parada se satisfaga.\n",
        "6. Cuando se cumple la condición de parada, se devuelve al mejor individuo encontrado (bien el mejor de todas las generaciones, bien el mejor de la última generación).\n",
        "Al igual que en muchas otras heurísticas, el comportamiento del algoritmo genético es altamente dependiente de los parámetros iniciales (tamaño de la población, porcentaje de cruce, porcentaje de mutación, número de generaciones, etc.), por lo que será necesario ajustar esos parámetros para tratar de mejorar la solución para los objetivos del problema.\n",
        "\n",
        "A cada iteración de este proceso se le denomina una generación. Un algoritmo genético típicamente se itera de 50 a 500 o incluso más generaciones. El conjunto entero de generaciones se denomina una ejecución. Al final de una ejecución existen a menudo uno o varios cromosomas altamente adecuados en la población, y que pueden ser elegidos como solución al problema.\n",
        "\n",
        "\n",
        "\n",
        "\n",
        "\n"
      ]
    },
    {
      "cell_type": "code",
      "execution_count": 3,
      "metadata": {
        "id": "6ZwuvNPGZ1SC"
      },
      "outputs": [],
      "source": [
        "#importo las bibliotecas necesarias\n",
        "import matplotlib.pyplot as plt\n",
        "import numpy as np\n",
        "import math"
      ]
    },
    {
      "cell_type": "markdown",
      "metadata": {
        "id": "Fs-LGOyNRax_"
      },
      "source": [
        "## Ejemplo en Python\n",
        "\n",
        "Vamos a maximizar una función no Lineal\n",
        "\n",
        "\n",
        "Debemos encontrar el valor de $x$  que maximice el valor de $y$ en la función\n",
        "$$f(x) = -[0,1 + (1-x)^2 - 0,1 cos(6\\pi (1-x))]+2$$"
      ]
    },
    {
      "cell_type": "code",
      "execution_count": 2,
      "metadata": {
        "id": "jPe5u9MmRd6W"
      },
      "outputs": [],
      "source": [
        "def fx(x):\n",
        "    return -(0.1+(1-x)**2-0.1*math.cos(6*math.pi*(1-x)) )+2"
      ]
    },
    {
      "cell_type": "markdown",
      "metadata": {
        "id": "fR8KukqmZlkj"
      },
      "source": [
        "### Graficamos la función"
      ]
    },
    {
      "cell_type": "code",
      "execution_count": 4,
      "metadata": {
        "colab": {
          "base_uri": "https://localhost:8080/",
          "height": 447
        },
        "id": "EWonKew3ZnHT",
        "outputId": "ab961890-3686-45a1-ab4c-7304fd9e40be"
      },
      "outputs": [
        {
          "output_type": "execute_result",
          "data": {
            "text/plain": [
              "[<matplotlib.lines.Line2D at 0x7aa03885f850>]"
            ]
          },
          "metadata": {},
          "execution_count": 4
        },
        {
          "output_type": "display_data",
          "data": {
            "text/plain": [
              "<Figure size 640x480 with 1 Axes>"
            ],
            "image/png": "[encoded data removed]"
          },
          "metadata": {}
        }
      ],
      "source": [
        "y_axis = []\n",
        "x_axis=np.arange(0,2,0.02)\n",
        "\n",
        "for num in x_axis:\n",
        "    y_axis.append(fx(num))\n",
        "plt.plot(x_axis,y_axis)\n"
      ]
    },
    {
      "cell_type": "code",
      "source": [
        "x_axis"
      ],
      "metadata": {
        "colab": {
          "base_uri": "https://localhost:8080/"
        },
        "id": "S-JxgSqdMLAF",
        "outputId": "d1d44d83-7b86-46ff-8847-b88625c7914d"
      },
      "execution_count": null,
      "outputs": [
        {
          "output_type": "execute_result",
          "data": {
            "text/plain": [
              "array([0.  , 0.02, 0.04, 0.06, 0.08, 0.1 , 0.12, 0.14, 0.16, 0.18, 0.2 ,\n",
              "       0.22, 0.24, 0.26, 0.28, 0.3 , 0.32, 0.34, 0.36, 0.38, 0.4 , 0.42,\n",
              "       0.44, 0.46, 0.48, 0.5 , 0.52, 0.54, 0.56, 0.58, 0.6 , 0.62, 0.64,\n",
              "       0.66, 0.68, 0.7 , 0.72, 0.74, 0.76, 0.78, 0.8 , 0.82, 0.84, 0.86,\n",
              "       0.88, 0.9 , 0.92, 0.94, 0.96, 0.98, 1.  , 1.02, 1.04, 1.06, 1.08,\n",
              "       1.1 , 1.12, 1.14, 1.16, 1.18, 1.2 , 1.22, 1.24, 1.26, 1.28, 1.3 ,\n",
              "       1.32, 1.34, 1.36, 1.38, 1.4 , 1.42, 1.44, 1.46, 1.48, 1.5 , 1.52,\n",
              "       1.54, 1.56, 1.58, 1.6 , 1.62, 1.64, 1.66, 1.68, 1.7 , 1.72, 1.74,\n",
              "       1.76, 1.78, 1.8 , 1.82, 1.84, 1.86, 1.88, 1.9 , 1.92, 1.94, 1.96,\n",
              "       1.98])"
            ]
          },
          "metadata": {},
          "execution_count": 7
        }
      ]
    },
    {
      "cell_type": "markdown",
      "metadata": {
        "id": "-ftcD4JJbvNn"
      },
      "source": [
        "La función que debemos maximizar tiene máximos y mínimos locales. Con el algoritmos genético buscaremos llegar al punto más alto de la función que se dará en el x = 1\n"
      ]
    },
    {
      "cell_type": "code",
      "execution_count": 5,
      "metadata": {
        "colab": {
          "base_uri": "https://localhost:8080/",
          "height": 447
        },
        "id": "P1hAOhjUZyFO",
        "outputId": "a5f3f146-574d-452f-96b2-4c485a5df956"
      },
      "outputs": [
        {
          "output_type": "execute_result",
          "data": {
            "text/plain": [
              "[<matplotlib.lines.Line2D at 0x7aa038767ad0>]"
            ]
          },
          "metadata": {},
          "execution_count": 5
        },
        {
          "output_type": "display_data",
          "data": {
            "text/plain": [
              "<Figure size 640x480 with 1 Axes>"
            ],
            "image/png": "[encoded data removed]"
          },
          "metadata": {}
        }
      ],
      "source": [
        "plt.plot(x_axis,y_axis)\n",
        "plt.plot(1,fx(1),'x')"
      ]
    },
    {
      "cell_type": "markdown",
      "metadata": {
        "id": "C_EZQx-gcR5w"
      },
      "source": [
        "Ejemplo con x = 0.54"
      ]
    },
    {
      "cell_type": "code",
      "execution_count": 6,
      "metadata": {
        "colab": {
          "base_uri": "https://localhost:8080/",
          "height": 447
        },
        "id": "KvCZZHGscHyf",
        "outputId": "a617b7cb-6919-40eb-e53c-4d4d2dbe2074"
      },
      "outputs": [
        {
          "output_type": "execute_result",
          "data": {
            "text/plain": [
              "[<matplotlib.lines.Line2D at 0x7aa038572ad0>]"
            ]
          },
          "metadata": {},
          "execution_count": 6
        },
        {
          "output_type": "display_data",
          "data": {
            "text/plain": [
              "<Figure size 640x480 with 1 Axes>"
            ],
            "image/png": "[encoded data removed]"
          },
          "metadata": {}
        }
      ],
      "source": [
        "x = 0.54\n",
        "#x = individuo_num\n",
        "y = fx(x)\n",
        "plt.plot(x_axis,y_axis)\n",
        "plt.plot(x,y,'x')"
      ]
    },
    {
      "cell_type": "markdown",
      "metadata": {
        "id": "1bJeuvYqcfIM"
      },
      "source": [
        "### Creamos la función para transformar vectores a númerico\n",
        "Los individuos de la población deben estar representados por valores que van desde el 0 hasta el 2.\n",
        "\n",
        "Los individuos serán representados por valores de una lista. Por ejemplo el ejemplo 0.54, será representado como una lista igual a [0,5,4].  \n",
        "Necesitamos representar los genes como una lista para poder realizar la mutación y el entrecruzamiento. Así que debemos manejar una función que convierta una lista en números decimales."
      ]
    },
    {
      "cell_type": "code",
      "execution_count": 7,
      "metadata": {
        "id": "10yuvpRNcarl"
      },
      "outputs": [],
      "source": [
        "#ejemplo x = 0.54\n",
        "x = [0,5,4]"
      ]
    },
    {
      "cell_type": "markdown",
      "metadata": {
        "id": "XLHFjm4KdJTy"
      },
      "source": [
        "Creamos una función que para cada lista se pueda reconvertir en un valor decimal"
      ]
    },
    {
      "cell_type": "code",
      "execution_count": 8,
      "metadata": {
        "colab": {
          "base_uri": "https://localhost:8080/"
        },
        "id": "XKVkKmyadUCr",
        "outputId": "d2e7e01f-bb87-4819-957b-6d484d96fd7a"
      },
      "outputs": [
        {
          "output_type": "execute_result",
          "data": {
            "text/plain": [
              "0.54"
            ]
          },
          "metadata": {},
          "execution_count": 8
        }
      ],
      "source": [
        "def listToDecimal(num):\n",
        "    decimal=0\n",
        "    for i in range(len(num)):\n",
        "        decimal+=num[i]*10**(-i) #0*(10^(0))+5*(10^(-1))+4*(10^(-2))\n",
        "    return decimal\n",
        "\n",
        "x_num = listToDecimal(x)\n",
        "x_num"
      ]
    },
    {
      "cell_type": "code",
      "source": [
        "m = [10,6,8]\n",
        "listToDecimal(m)"
      ],
      "metadata": {
        "colab": {
          "base_uri": "https://localhost:8080/"
        },
        "id": "NVc_0DUFVVvu",
        "outputId": "5bd3c17c-414b-427e-df42-9f13bd66262b"
      },
      "execution_count": 9,
      "outputs": [
        {
          "output_type": "execute_result",
          "data": {
            "text/plain": [
              "10.68"
            ]
          },
          "metadata": {},
          "execution_count": 9
        }
      ]
    },
    {
      "cell_type": "markdown",
      "metadata": {
        "id": "21G0t4YidkKH"
      },
      "source": [
        "### Creamos los individuos con sus genes\n",
        "La variable **ind_size** nos dirá el tamaño que tendrá cada uno de los individuos, siempre teniendo en cuenta que el primer valor de la lista será el número entero y el resto de los valores serán las posiciones de los decimales, en este caso cada individuo tendrá 14 decimales.  \n",
        "La variable **genetic_pool** esta compuesta por dos partes, la primera lista contrendrá los valores [0,1] que serán los posibles valores enteros (no se incluye el 2 ya que si algún indiviuo obtiene dicho valor pasará con los decimales el dominio de la función que definimos) y una segunda lista de valores [0,1,2,3,4,5,6,7,8,9], que serán todos los valore posibles a obtener"
      ]
    },
    {
      "cell_type": "code",
      "execution_count": 10,
      "metadata": {
        "colab": {
          "base_uri": "https://localhost:8080/"
        },
        "id": "VPYVQLn3dcbP",
        "outputId": "94dd48c5-4a8e-4c8c-f5ba-4667c949b1cf"
      },
      "outputs": [
        {
          "output_type": "stream",
          "name": "stdout",
          "text": [
            "[1, 6, 4, 7, 3, 9, 6, 1, 2, 2, 8, 1, 8, 2, 1]\n"
          ]
        }
      ],
      "source": [
        "ind_size = 15\n",
        "#Genetic pool\n",
        "genetic_pool=[[0,1],[0,1,2,3,4,5,6,7,8,9]]\n",
        "\n",
        "individuo = []\n",
        "individuo += [np.random.choice(genetic_pool[0])]\n",
        "individuo += list(np.random.choice(genetic_pool[1],ind_size-1))\n",
        "\n",
        "individuo = [int(x) for x in individuo]\n",
        "print(individuo)"
      ]
    },
    {
      "cell_type": "code",
      "execution_count": null,
      "metadata": {
        "colab": {
          "base_uri": "https://localhost:8080/"
        },
        "id": "SLiI_PYgd-ND",
        "outputId": "51622e32-7789-4d01-a81e-4373f8925a09"
      },
      "outputs": [
        {
          "output_type": "stream",
          "name": "stdout",
          "text": [
            "0.8005843716081701\n"
          ]
        }
      ],
      "source": [
        "individuo_num = listToDecimal(individuo)\n",
        "print(individuo_num)"
      ]
    },
    {
      "cell_type": "markdown",
      "metadata": {
        "id": "4WSJq-GReyQq"
      },
      "source": [
        "### Creamos la población\n",
        "Creamos una población de 100 individuos de forma aleatoria con la construcción de sus genes de forma aleatoria (recordemos que cada individuo tendrá 15 genes)"
      ]
    },
    {
      "cell_type": "code",
      "execution_count": null,
      "metadata": {
        "colab": {
          "base_uri": "https://localhost:8080/"
        },
        "id": "_kZkbsh3ehmw",
        "outputId": "d2b44649-c51c-41e3-b91b-ca0d5a2d54ec"
      },
      "outputs": [
        {
          "output_type": "stream",
          "name": "stdout",
          "text": [
            "[[0, 0, 6, 2, 8, 5, 6, 7, 8, 8, 2, 2, 4, 2, 4], [1, 2, 6, 2, 1, 9, 8, 1, 7, 7, 8, 2, 4, 9, 9], [1, 2, 7, 7, 6, 5, 0, 9, 1, 7, 3, 5, 4, 3, 8], [0, 8, 8, 0, 8, 3, 0, 5, 7, 9, 3, 8, 9, 1, 7], [0, 3, 6, 8, 3, 5, 9, 9, 4, 8, 0, 2, 3, 4, 9], [1, 8, 1, 9, 7, 7, 3, 4, 1, 6, 6, 0, 8, 6, 1]]\n"
          ]
        }
      ],
      "source": [
        "def poblacionFunc(cant_individuos, ind_size, genetic_pool):\n",
        "  poblacion = []\n",
        "  for i in range(100):\n",
        "      individuo = []\n",
        "      individuo += [np.random.choice(genetic_pool[0])]\n",
        "      individuo += list(np.random.choice(genetic_pool[1],ind_size-1))\n",
        "      poblacion.append(individuo)\n",
        "  return poblacion\n",
        "\n",
        "poblacion = poblacionFunc(100, ind_size, genetic_pool) #habíamos definido ind_size = 15 y el genetic_pool se había definido que tiene 2 subvectores\n",
        "\n",
        "poblacion = [[int(x) for x in ind] for ind in poblacion]\n",
        "print(poblacion[:6])"
      ]
    },
    {
      "cell_type": "code",
      "execution_count": null,
      "metadata": {
        "colab": {
          "base_uri": "https://localhost:8080/",
          "height": 448
        },
        "id": "cZC22LBae47M",
        "outputId": "a7c5c5d6-e223-4836-c459-90a07547d3c5"
      },
      "outputs": [
        {
          "output_type": "execute_result",
          "data": {
            "text/plain": [
              "[<matplotlib.lines.Line2D at 0x7e4620046810>]"
            ]
          },
          "metadata": {},
          "execution_count": 16
        },
        {
          "output_type": "display_data",
          "data": {
            "text/plain": [
              "<Figure size 640x480 with 1 Axes>"
            ],
            "image/png": "[encoded data removed]"
          },
          "metadata": {}
        }
      ],
      "source": [
        "for individuo in poblacion:\n",
        "    x = listToDecimal(individuo)\n",
        "    y = fx(x)\n",
        "    plt.plot(x,y,'x')\n",
        "plt.plot(x_axis,y_axis)"
      ]
    },
    {
      "cell_type": "markdown",
      "metadata": {
        "id": "8sXc9c7SgPB4"
      },
      "source": [
        "### Creamos la función de fitness\n",
        "Los individuos más fuertes (o mejores) serán aquellos que obtengan un valor más alto en la función (ya que estamos buscando un máximo de la función). Para luego obtener valores relativos que estén entre 0 y 1, se divide cada salida de la función $f_x(x)$ con la suma total de las salidas. Los valores más altos generarán una proporción más alta."
      ]
    },
    {
      "cell_type": "code",
      "execution_count": null,
      "metadata": {
        "id": "JMREdGlEfLui"
      },
      "outputs": [],
      "source": [
        "def fitnessFunc (poblacion):\n",
        "  fitness =[]\n",
        "\n",
        "  #extraigo los valores de y para medir su éxito\n",
        "  for individuo in poblacion:\n",
        "      x = listToDecimal(individuo)\n",
        "      y = fx(x)\n",
        "      fitness += [y]\n",
        "\n",
        "  #convierto fitness en un vector para realizar operaciones\n",
        "  #más fácilmente\n",
        "  fitness = np.array(fitness)\n",
        "\n",
        "  #divido todos los valores de y por la suma total\n",
        "  #para obtener valores entre 0 y 1\n",
        "  fitness=fitness/fitness.sum()\n",
        "  return fitness\n",
        "\n",
        "fitness = fitnessFunc(poblacion)"
      ]
    },
    {
      "cell_type": "code",
      "source": [
        "fitness"
      ],
      "metadata": {
        "colab": {
          "base_uri": "https://localhost:8080/"
        },
        "id": "mxcw7x46W3P2",
        "outputId": "5bb92c70-aef6-4df9-be86-a9abc8cdb7c7"
      },
      "execution_count": null,
      "outputs": [
        {
          "output_type": "execute_result",
          "data": {
            "text/plain": [
              "array([0.00695791, 0.01217685, 0.01229941, 0.01197475, 0.01037712,\n",
              "       0.00742955, 0.01051064, 0.01163392, 0.01285507, 0.00808368,\n",
              "       0.00789881, 0.01037098, 0.00840283, 0.01028159, 0.01169651,\n",
              "       0.01024291, 0.00841347, 0.00696109, 0.00697083, 0.0102059 ,\n",
              "       0.01245473, 0.00860295, 0.01112211, 0.01213194, 0.00844241,\n",
              "       0.0071521 , 0.00695817, 0.00850059, 0.01164365, 0.01022122,\n",
              "       0.0102209 , 0.00711696, 0.01197094, 0.00935616, 0.01212971,\n",
              "       0.011725  , 0.01032349, 0.01017151, 0.01209271, 0.00673965,\n",
              "       0.00679303, 0.00736535, 0.01166941, 0.01204588, 0.00836412,\n",
              "       0.00729639, 0.01027362, 0.01216566, 0.01037824, 0.00984864,\n",
              "       0.0123068 , 0.0116966 , 0.01235454, 0.00669021, 0.00888752,\n",
              "       0.0066759 , 0.01205757, 0.00688477, 0.00710716, 0.01185254,\n",
              "       0.0069618 , 0.01272061, 0.00696162, 0.01286091, 0.01037471,\n",
              "       0.01278199, 0.01017534, 0.00680276, 0.01232255, 0.01308141,\n",
              "       0.01208719, 0.01175237, 0.01195912, 0.00695945, 0.01244469,\n",
              "       0.01030981, 0.01036921, 0.0117658 , 0.01163023, 0.00685628,\n",
              "       0.01018749, 0.00814892, 0.00715079, 0.01256388, 0.01216455,\n",
              "       0.01215774, 0.01011305, 0.01186256, 0.00695888, 0.01109027,\n",
              "       0.01243014, 0.006957  , 0.01220251, 0.00732823, 0.01038501,\n",
              "       0.01212418, 0.00969593, 0.01272001, 0.00769067, 0.00735562])"
            ]
          },
          "metadata": {},
          "execution_count": 67
        }
      ]
    },
    {
      "cell_type": "code",
      "execution_count": null,
      "metadata": {
        "colab": {
          "base_uri": "https://localhost:8080/"
        },
        "id": "iPY1d0iYghMR",
        "outputId": "85a46d02-7c1c-4bf5-e5ae-20397a9cf35c"
      },
      "outputs": [
        {
          "output_type": "execute_result",
          "data": {
            "text/plain": [
              "np.float64(1.0)"
            ]
          },
          "metadata": {},
          "execution_count": 68
        }
      ],
      "source": [
        "round(fitness.sum(), 1)"
      ]
    },
    {
      "cell_type": "markdown",
      "metadata": {
        "id": "8WyeQHVuhy67"
      },
      "source": [
        "### Entrecruzamiento\n",
        "Consiste en mezclar los genes de los mejores individuos. En este caso vamos a elegir dos elementos al azar, de acuerdo a la probabilidad que nos dio la función de fitness para que puedan producir un nuevo individuo. Lo importante es no descartar de lleno a los peores individuos, porque quizá su código genético puede servir para lograr algún individuo mejor. Luego se busca un punto en donde se corte y permite combinar los genes de los padres, esta variable se denomina **cross_point**. Se va a copiar los genes del primer padre hasta este punto, y luego los genes del otro padre."
      ]
    },
    {
      "cell_type": "code",
      "execution_count": null,
      "metadata": {
        "id": "wU-yxd1EhB6V"
      },
      "outputs": [],
      "source": [
        "def entrecruzamientoFunc(poblacion, fitness):\n",
        "  size_poblacion = len(poblacion)\n",
        "  #hijos\n",
        "  offspring = []\n",
        "  for i in range(size_poblacion//2): #// es una division que devuelve el resultado de un numero entero mas aproximado, similar a un rounddown.\n",
        "      parents = np.random.choice(size_poblacion, 2, p=fitness)#elijo 2 padres, el parametro p indica las probabilidades de cada uno de los elementos de ser elegido\n",
        "      cross_point = np.random.randint(ind_size)\n",
        "      offspring += [poblacion[parents[0]][:cross_point] + poblacion[parents[1]][cross_point:]]\n",
        "      offspring += [poblacion[parents[1]][:cross_point] + poblacion[parents[0]][cross_point:]]\n",
        "  return offspring\n",
        "\n",
        "poblacion = entrecruzamientoFunc(poblacion, fitness) #la poblacion después del crossover."
      ]
    },
    {
      "cell_type": "code",
      "source": [
        "parents=np.random.choice(100, 2, p=fitness)\n",
        "parents"
      ],
      "metadata": {
        "colab": {
          "base_uri": "https://localhost:8080/"
        },
        "id": "khyNBOLZZa0j",
        "outputId": "da7a4854-884c-44d6-a43c-d832d333e915"
      },
      "execution_count": null,
      "outputs": [
        {
          "output_type": "execute_result",
          "data": {
            "text/plain": [
              "array([45, 70])"
            ]
          },
          "metadata": {},
          "execution_count": 70
        }
      ]
    },
    {
      "cell_type": "code",
      "source": [
        "poblacion[parents[0]]"
      ],
      "metadata": {
        "colab": {
          "base_uri": "https://localhost:8080/"
        },
        "id": "og3VxtWaZ9pU",
        "outputId": "fc614266-b3b2-4c8f-8704-acc9f2504fad"
      },
      "execution_count": null,
      "outputs": [
        {
          "output_type": "execute_result",
          "data": {
            "text/plain": [
              "[0, 5, 7, 1, 1, 9, 6, 3, 2, 6, 5, 6, 5, 4, 9]"
            ]
          },
          "metadata": {},
          "execution_count": 71
        }
      ]
    },
    {
      "cell_type": "code",
      "source": [
        "poblacion[parents[1]]"
      ],
      "metadata": {
        "colab": {
          "base_uri": "https://localhost:8080/"
        },
        "id": "Cr_7eFvUaM2K",
        "outputId": "c3300923-2ae0-44ac-c961-8de9e056fdc2"
      },
      "execution_count": null,
      "outputs": [
        {
          "output_type": "execute_result",
          "data": {
            "text/plain": [
              "[1, 8, 2, 5, 3, 3, 1, 1, 7, 3, 9, 7, 1, 2, 9]"
            ]
          },
          "metadata": {},
          "execution_count": 72
        }
      ]
    },
    {
      "cell_type": "code",
      "source": [
        "offspring=poblacion[parents[0]][:4]+poblacion[parents[1]][4:]\n",
        "offspring"
      ],
      "metadata": {
        "colab": {
          "base_uri": "https://localhost:8080/"
        },
        "id": "ILMsjSQGa0qM",
        "outputId": "b85787a7-bf25-4e3b-98e3-31e925bb32da"
      },
      "execution_count": null,
      "outputs": [
        {
          "output_type": "execute_result",
          "data": {
            "text/plain": [
              "[0, 5, 7, 1, 3, 3, 1, 1, 7, 3, 9, 7, 1, 2, 9]"
            ]
          },
          "metadata": {},
          "execution_count": 73
        }
      ]
    },
    {
      "cell_type": "code",
      "source": [
        "offspring=poblacion[parents[1]][:4]+poblacion[parents[0]][4:]\n",
        "offspring"
      ],
      "metadata": {
        "colab": {
          "base_uri": "https://localhost:8080/"
        },
        "id": "G3YFnmCLbNJt",
        "outputId": "8c09a543-0c07-40c3-8a74-c9c684ed6cf9"
      },
      "execution_count": null,
      "outputs": [
        {
          "output_type": "execute_result",
          "data": {
            "text/plain": [
              "[1, 8, 2, 5, 1, 9, 6, 3, 2, 6, 5, 6, 5, 4, 9]"
            ]
          },
          "metadata": {},
          "execution_count": 74
        }
      ]
    },
    {
      "cell_type": "code",
      "source": [
        "poblacion[:10]"
      ],
      "metadata": {
        "colab": {
          "base_uri": "https://localhost:8080/"
        },
        "id": "Fs7eDHCjY-07",
        "outputId": "b7d4deea-3aad-4183-89ed-45e96f773112"
      },
      "execution_count": null,
      "outputs": [
        {
          "output_type": "execute_result",
          "data": {
            "text/plain": [
              "[[0, 3, 6, 8, 3, 5, 9, 9, 4, 8, 3, 5, 4, 3, 8],\n",
              " [1, 2, 7, 7, 6, 5, 0, 9, 1, 7, 0, 2, 3, 4, 9],\n",
              " [0, 6, 4, 2, 6, 5, 2, 2, 2, 1, 2, 5, 4, 5, 8],\n",
              " [0, 8, 3, 3, 5, 5, 4, 9, 8, 0, 9, 6, 4, 0, 6],\n",
              " [1, 2, 2, 6, 7, 8, 2, 4, 1, 7, 2, 0, 5, 9, 7],\n",
              " [1, 8, 0, 3, 0, 4, 4, 8, 5, 1, 6, 6, 0, 8, 3],\n",
              " [1, 1, 5, 1, 7, 4, 1, 4, 2, 6, 5, 6, 5, 4, 9],\n",
              " [0, 2, 3, 7, 2, 1, 6, 4, 7, 4, 7, 7, 6, 4, 5],\n",
              " [0, 1, 0, 8, 5, 6, 6, 3, 4, 8, 0, 2, 2, 9, 9],\n",
              " [0, 6, 2, 1, 5, 2, 6, 3, 3, 2, 6, 8, 7, 2, 7]]"
            ]
          },
          "metadata": {},
          "execution_count": 75
        }
      ]
    },
    {
      "cell_type": "code",
      "source": [
        "len(poblacion)"
      ],
      "metadata": {
        "colab": {
          "base_uri": "https://localhost:8080/"
        },
        "id": "gix2TvZHbpj3",
        "outputId": "902d6456-0ad0-43bc-f6b3-07a63d0947c2"
      },
      "execution_count": null,
      "outputs": [
        {
          "output_type": "execute_result",
          "data": {
            "text/plain": [
              "100"
            ]
          },
          "metadata": {},
          "execution_count": 76
        }
      ]
    },
    {
      "cell_type": "code",
      "execution_count": null,
      "metadata": {
        "colab": {
          "base_uri": "https://localhost:8080/",
          "height": 448
        },
        "id": "EOije7HVjReG",
        "outputId": "78396ff2-769e-4f7d-c453-f27841336caf"
      },
      "outputs": [
        {
          "output_type": "execute_result",
          "data": {
            "text/plain": [
              "[<matplotlib.lines.Line2D at 0x7e4613f6d1d0>]"
            ]
          },
          "metadata": {},
          "execution_count": 77
        },
        {
          "output_type": "display_data",
          "data": {
            "text/plain": [
              "<Figure size 640x480 with 1 Axes>"
            ],
            "image/png": "[encoded data removed]"
          },
          "metadata": {}
        }
      ],
      "source": [
        "for individuo in poblacion:\n",
        "    x = listToDecimal(individuo)\n",
        "    y = fx(x)\n",
        "    plt.plot(x,y,'x')\n",
        "plt.plot(x_axis,y_axis)"
      ]
    },
    {
      "cell_type": "markdown",
      "metadata": {
        "id": "DmR_yLYijp11"
      },
      "source": [
        "### Mutaciones\n",
        "Otro aspecto interesante del algoritmo genético es la probabilidad de que se produzca una mutación en los individuos. Lo que significa que el ADN de cualquier individuo puede producir un gen que no viene de sus padres.\n",
        "El individuo [0,5,3,8,9] puede mutar a [0,5,4,8,9] y esto mantiene la puerta abierta hacia el mejoramiento de la población."
      ]
    },
    {
      "cell_type": "code",
      "execution_count": null,
      "metadata": {
        "id": "kg_DehtxjVGH"
      },
      "outputs": [],
      "source": [
        "def mutateFunc(individuals, prob, pool): #individuals conforman una poblacion\n",
        "    for i in range(len(individuals)):\n",
        "        mutate_individual=individuals[i]\n",
        "        if np.random.random() < prob:\n",
        "            mutation = np.random.choice(pool[0]) #mutar solo el primer gen\n",
        "            mutate_individual = [mutation] + mutate_individual[1:]\n",
        "\n",
        "        for j in range(1,len(mutate_individual)): #mutar a partir del segundo gen\n",
        "            if np.random.random() < prob:\n",
        "                mutation = np.random.choice(pool[1])\n",
        "                mutate_individual = mutate_individual[0:j] + [mutation] + mutate_individual[j+1:]\n",
        "        individuals[i] = mutate_individual\n"
      ]
    },
    {
      "cell_type": "code",
      "source": [
        "poblacion = [[int(x) for x in individuo] for individuo in poblacion] #para no mostrar el tipo de objeto de np y visualizar mejor los vectores"
      ],
      "metadata": {
        "id": "ZgoHa0pChGA5"
      },
      "execution_count": null,
      "outputs": []
    },
    {
      "cell_type": "code",
      "execution_count": null,
      "metadata": {
        "colab": {
          "base_uri": "https://localhost:8080/"
        },
        "id": "LfotNH9xkBBd",
        "outputId": "d739033c-5363-4f2b-b57a-f51b1adc52ef"
      },
      "outputs": [
        {
          "output_type": "execute_result",
          "data": {
            "text/plain": [
              "[[0, 3, 6, 8, 3, 5, 9, 9, 4, 8, 3, 5, 4, 8, 8],\n",
              " [1, 2, 0, 7, 6, 5, 0, 9, 1, 7, 0, 7, 3, 4, 9],\n",
              " [0, 6, 4, 2, 6, 5, 2, 2, 2, 1, 2, 5, 4, 1, 0],\n",
              " [0, 8, 8, 3, 5, 2, 4, 9, 8, 0, 9, 6, 4, 0, 6],\n",
              " [1, 2, 2, 6, 7, 8, 2, 3, 1, 7, 2, 8, 5, 9, 7],\n",
              " [1, 8, 0, 1, 0, 4, 4, 8, 5, 1, 6, 6, 0, 8, 3],\n",
              " [1, 1, 5, 1, 7, 4, 1, 4, 1, 6, 5, 6, 1, 4, 9],\n",
              " [0, 2, 3, 7, 2, 0, 6, 1, 7, 4, 7, 7, 6, 4, 5],\n",
              " [0, 1, 0, 8, 5, 6, 6, 3, 4, 8, 0, 2, 2, 9, 9],\n",
              " [0, 3, 2, 8, 5, 2, 9, 3, 3, 2, 6, 8, 7, 2, 7]]"
            ]
          },
          "metadata": {},
          "execution_count": 101
        }
      ],
      "source": [
        "mutateFunc(poblacion,0.005,genetic_pool)\n",
        "poblacion[:10]"
      ]
    },
    {
      "cell_type": "code",
      "execution_count": null,
      "metadata": {
        "colab": {
          "base_uri": "https://localhost:8080/",
          "height": 448
        },
        "id": "PjEl3ZCqkD5V",
        "outputId": "c9824107-6a4a-4834-b0de-a5ef6d2b7250"
      },
      "outputs": [
        {
          "output_type": "execute_result",
          "data": {
            "text/plain": [
              "[<matplotlib.lines.Line2D at 0x7e46200ea3d0>]"
            ]
          },
          "metadata": {},
          "execution_count": 31
        },
        {
          "output_type": "display_data",
          "data": {
            "text/plain": [
              "<Figure size 640x480 with 1 Axes>"
            ],
            "image/png": "[encoded data removed]"
          },
          "metadata": {}
        }
      ],
      "source": [
        "for individuo in poblacion:\n",
        "    x = listToDecimal(individuo)\n",
        "    y = fx(x)\n",
        "    plt.plot(x,y,'x')\n",
        "plt.plot(x_axis,y_axis)"
      ]
    },
    {
      "cell_type": "markdown",
      "metadata": {
        "id": "NsAjcLoSkNxZ"
      },
      "source": [
        "La mutación es baja ya que la probabilidad de mutación está definida como baja (0.005)"
      ]
    },
    {
      "cell_type": "code",
      "execution_count": null,
      "metadata": {
        "id": "NEajp7Ueyost"
      },
      "outputs": [],
      "source": [
        "poblacion = poblacionFunc(individuo, ind_size, genetic_pool)"
      ]
    },
    {
      "cell_type": "markdown",
      "metadata": {
        "id": "f6Eo2X9Xke4f"
      },
      "source": [
        "### Algoritmo completo"
      ]
    },
    {
      "cell_type": "code",
      "execution_count": null,
      "metadata": {
        "colab": {
          "base_uri": "https://localhost:8080/",
          "height": 465
        },
        "id": "OvJKkTjQkHnu",
        "outputId": "4e5b3257-ec10-4b9c-bc6a-eab96124d8f9"
      },
      "outputs": [
        {
          "output_type": "stream",
          "name": "stdout",
          "text": [
            "X obtenido es 0.98312748489159 y se obtiene una y = 1.9947003509479146\n"
          ]
        },
        {
          "output_type": "execute_result",
          "data": {
            "text/plain": [
              "[<matplotlib.lines.Line2D at 0x7e4613ed2510>]"
            ]
          },
          "metadata": {},
          "execution_count": 104
        },
        {
          "output_type": "display_data",
          "data": {
            "text/plain": [
              "<Figure size 640x480 with 1 Axes>"
            ],
            "image/png": "[encoded data removed]"
          },
          "metadata": {}
        }
      ],
      "source": [
        "ind_size = 15\n",
        "genetic_pool=[[0,1],[0,1,2,3,4,5,6,7,8,9]]\n",
        "individuos = 100\n",
        "generaciones = 1000\n",
        "\n",
        "poblacion = poblacionFunc(individuos, ind_size, genetic_pool)\n",
        "for _ in range(generaciones): #loop con 1000 generaciones para calcular el fitness de cada individuo, luego hacer el crossover de la poblacion y la mutacion.\n",
        "  fitness = fitnessFunc(poblacion)\n",
        "  poblacion = entrecruzamientoFunc(poblacion, fitness)\n",
        "  mutateFunc(poblacion,0.005,genetic_pool)\n",
        "\n",
        "#np.where(fitness == fitness.max()) devuelve un tuple con 2 vectores: el primero contiene el indice del individuo de mayor fitness.\n",
        "indice = np.where(fitness == fitness.max())[0][0] #buscar el indice del mejor fitness\n",
        "x = listToDecimal(poblacion[indice])\n",
        "y_max = fx(x)\n",
        "print(\"X obtenido es {} y se obtiene una y = {}\".format(x, y_max))\n",
        "\n",
        "plt.plot(x_axis,y_axis)\n",
        "plt.plot(x,y_max,'x')"
      ]
    },
    {
      "cell_type": "code",
      "source": [
        "np.where(fitness == fitness.max())[0][0] #cual es indice del numero que maximiza la funcion de fitness"
      ],
      "metadata": {
        "colab": {
          "base_uri": "https://localhost:8080/"
        },
        "id": "U_Bjvm9XeBRD",
        "outputId": "8a035d60-fa2f-438f-9ccf-bf1c829a90b9"
      },
      "execution_count": null,
      "outputs": [
        {
          "output_type": "execute_result",
          "data": {
            "text/plain": [
              "np.int64(27)"
            ]
          },
          "metadata": {},
          "execution_count": 105
        }
      ]
    },
    {
      "cell_type": "markdown",
      "metadata": {
        "id": "qg2O4Vs7rGTC"
      },
      "source": [
        "## Resolución del problema para minimizar el tiempo del viajero"
      ]
    },
    {
      "cell_type": "markdown",
      "metadata": {
        "id": "KsfMEY0wrNMX"
      },
      "source": [
        "1) Se deben definir 20 puntos al azar  \n",
        "2) Crear un grafo para representar los puntos  \n",
        "3) Definir la función a minimizar (Euclidea)  \n",
        "4) Definir la población inicial. Cada individuo tendrá una combinación de los 20 puntos diferente. La población tendrá 100 individuos. Cada gen es un punto de los 20 creados.  \n",
        "5) Definir la función fitness usando la distancia euclidea definida en el punto 3  \n",
        "6) Crear una función de mutación en donde se cambien dos genes. Manejar un ratio de mutación que a priori estará seteado en 0.001  \n",
        "7) Crear una función de Cross over.  \n",
        "8) Productivizar con 1000 generaciones, quedándonos con el mejor elemento"
      ]
    },
    {
      "cell_type": "code",
      "execution_count": null,
      "metadata": {
        "id": "71J7UJ3QnNGa"
      },
      "outputs": [],
      "source": [
        "import numpy as np\n",
        "from scipy.spatial import distance\n",
        "import networkx as nx\n",
        "import matplotlib.pyplot as plt"
      ]
    },
    {
      "cell_type": "code",
      "execution_count": null,
      "metadata": {
        "id": "JnQvv-ImrcWN"
      },
      "outputs": [],
      "source": [
        "n_points = 20\n",
        "pos = { i:(np.random.random(),np.random.random()) for i in range(n_points)} #defino las coordenadas de cada punto"
      ]
    },
    {
      "cell_type": "code",
      "execution_count": null,
      "metadata": {
        "colab": {
          "base_uri": "https://localhost:8080/",
          "height": 516
        },
        "id": "aUqOpx7grgMT",
        "outputId": "eccaf5db-d819-4b99-853a-5d8125b3d560"
      },
      "outputs": [
        {
          "output_type": "display_data",
          "data": {
            "text/plain": [
              "<Figure size 640x480 with 1 Axes>"
            ],
            "image/png": "[encoded data removed]"
          },
          "metadata": {}
        }
      ],
      "source": [
        "G = nx.Graph()\n",
        "for i in range(n_points):\n",
        "  G.add_node(i)\n",
        "nx.draw(G,pos, with_labels=True)"
      ]
    },
    {
      "cell_type": "code",
      "execution_count": null,
      "metadata": {
        "colab": {
          "base_uri": "https://localhost:8080/"
        },
        "id": "F1r6IEdYz16Q",
        "outputId": "d77721ad-460d-48a3-9c84-202a7eab15b4"
      },
      "outputs": [
        {
          "output_type": "execute_result",
          "data": {
            "text/plain": [
              "{0: (0.9771754574627409, 0.37461484799473743),\n",
              " 1: (0.5553830750039044, 0.4860258991041496),\n",
              " 2: (0.5507291973496842, 0.24889328456116944),\n",
              " 3: (0.43947182947141994, 0.1887850302477364),\n",
              " 4: (0.6164260782377294, 0.6755103425079018),\n",
              " 5: (0.43823316746662355, 0.6346798986304482),\n",
              " 6: (0.7045530174489538, 0.9343135505206117),\n",
              " 7: (0.30936679913982457, 0.8555106491142122),\n",
              " 8: (0.21410317671606227, 0.672499556252335),\n",
              " 9: (0.15337414802952065, 0.2907618097566109),\n",
              " 10: (0.5281713066741386, 0.1526995962717299),\n",
              " 11: (0.6809150148445298, 0.5712622624653427),\n",
              " 12: (0.5975507475732449, 0.6896757769394923),\n",
              " 13: (0.2455336067387578, 0.0190865286192472),\n",
              " 14: (0.16432520544516482, 0.7301304248022503),\n",
              " 15: (0.7422307920778375, 0.6254884906386398),\n",
              " 16: (0.04420313881430493, 0.06423933257413306),\n",
              " 17: (0.9109468055000971, 0.546709288269744),\n",
              " 18: (0.09106673226500206, 0.4850084677602937),\n",
              " 19: (0.7785017197211361, 0.26684826131537887)}"
            ]
          },
          "metadata": {},
          "execution_count": 38
        }
      ],
      "source": [
        "pos"
      ]
    },
    {
      "cell_type": "code",
      "execution_count": null,
      "metadata": {
        "id": "-pVt1EJSrlbp"
      },
      "outputs": [],
      "source": [
        "#La distancia entre puntos se usará la euclidea. Se buscará minimizar el espacio recorrido\n",
        "distance.euclidean(pos[0],pos[1])\n",
        "\n",
        "def getTotalDistanceFunc(individuo, pos):\n",
        "  individuo = list(individuo)  #convierte individuo en lista\n",
        "  ring_path = individuo.copy() #se crea una copia para no modificar individuo original\n",
        "  ring_path.append(individuo[0]) #crear el vector ring_path como un auxiliar para poder indicar la ubicacion de las posiciones iniciales.\n",
        "  total_distance = 0\n",
        "  for i in range(n_points):\n",
        "    pos1 = pos[ring_path[i]]\n",
        "    pos2 = pos[ring_path[i+1]]\n",
        "    total_distance += distance.euclidean(pos1,pos2)\n",
        "  return total_distance"
      ]
    },
    {
      "cell_type": "code",
      "source": [
        "#individuo es la combinación de los 20 puntos\n",
        "individuo = np.random.choice(list(pos.keys()),20,False) #False indica que no hay reemplazo, cada elemento se usa una sola vez."
      ],
      "metadata": {
        "id": "9NXemxOhm9RA"
      },
      "execution_count": null,
      "outputs": []
    },
    {
      "cell_type": "code",
      "execution_count": null,
      "metadata": {
        "colab": {
          "base_uri": "https://localhost:8080/"
        },
        "id": "nUmMG5iL5Lt2",
        "outputId": "4be1138b-ce84-4392-b3c9-d3393a9ea66a"
      },
      "outputs": [
        {
          "output_type": "execute_result",
          "data": {
            "text/plain": [
              "dict_keys([0, 1, 2, 3, 4, 5, 6, 7, 8, 9, 10, 11, 12, 13, 14, 15, 16, 17, 18, 19])"
            ]
          },
          "metadata": {},
          "execution_count": 115
        }
      ],
      "source": [
        "pos.keys()"
      ]
    },
    {
      "cell_type": "code",
      "source": [
        "individuo"
      ],
      "metadata": {
        "colab": {
          "base_uri": "https://localhost:8080/"
        },
        "id": "NhSfpGQJgwNw",
        "outputId": "e95452b5-a3fa-4d96-a890-c18d8052773a"
      },
      "execution_count": null,
      "outputs": [
        {
          "output_type": "execute_result",
          "data": {
            "text/plain": [
              "array([ 4, 18, 11,  8,  3,  6,  1, 19,  9,  2, 10, 14,  7, 17, 13, 16, 15,\n",
              "       12,  0,  5])"
            ]
          },
          "metadata": {},
          "execution_count": 116
        }
      ]
    },
    {
      "cell_type": "code",
      "execution_count": null,
      "metadata": {
        "colab": {
          "base_uri": "https://localhost:8080/"
        },
        "id": "BY00pZGc2oxJ",
        "outputId": "510db773-8deb-4f0b-c6cb-05da96999c4f"
      },
      "outputs": [
        {
          "output_type": "execute_result",
          "data": {
            "text/plain": [
              "0.34672147138353926"
            ]
          },
          "metadata": {},
          "execution_count": 117
        }
      ],
      "source": [
        "distance.euclidean(pos[0],pos[17])\n"
      ]
    },
    {
      "cell_type": "code",
      "source": [
        "distancia = getTotalDistanceFunc(individuo, pos)\n",
        "distancia"
      ],
      "metadata": {
        "colab": {
          "base_uri": "https://localhost:8080/"
        },
        "id": "a73f6oYGnmqO",
        "outputId": "8602cebb-b672-4a36-a5da-7b28245d62f1"
      },
      "execution_count": null,
      "outputs": [
        {
          "output_type": "execute_result",
          "data": {
            "text/plain": [
              "8.941443762920965"
            ]
          },
          "metadata": {},
          "execution_count": 118
        }
      ]
    },
    {
      "cell_type": "code",
      "execution_count": null,
      "metadata": {
        "id": "6u9l58QE265a"
      },
      "outputs": [],
      "source": [
        "#función para crear cierta cantidad de individuos, cuyos genes provienen de pos.keys()\n",
        "def populationFunc(n_population, pos):\n",
        "  possible_gen = list(pos.keys())\n",
        "  population = [np.random.choice(possible_gen,n_points,False) for i in range(n_population) ]\n",
        "  return population\n",
        "\n",
        "initial_population = populationFunc(1000, pos)"
      ]
    },
    {
      "cell_type": "code",
      "source": [
        "len(initial_population)"
      ],
      "metadata": {
        "colab": {
          "base_uri": "https://localhost:8080/"
        },
        "id": "z2g2iXAOjTJ6",
        "outputId": "8009791f-2b8c-463d-c35b-ca6873132fda"
      },
      "execution_count": null,
      "outputs": [
        {
          "output_type": "execute_result",
          "data": {
            "text/plain": [
              "1000"
            ]
          },
          "metadata": {},
          "execution_count": 44
        }
      ]
    },
    {
      "cell_type": "code",
      "source": [
        "initial_population[:10]"
      ],
      "metadata": {
        "colab": {
          "base_uri": "https://localhost:8080/"
        },
        "id": "_fAMJdT5jq2W",
        "outputId": "1f11eefa-1ba3-4509-beea-7bdd515ae83f"
      },
      "execution_count": null,
      "outputs": [
        {
          "output_type": "execute_result",
          "data": {
            "text/plain": [
              "[array([ 2, 15, 13, 11, 12,  3,  7,  8,  6, 19, 14, 10, 17, 16,  9,  4, 18,\n",
              "         0,  5,  1]),\n",
              " array([18,  2, 14,  7, 17,  8,  4,  1, 16, 10,  9,  3, 13,  0, 12, 15,  6,\n",
              "        19, 11,  5]),\n",
              " array([ 7,  6, 17, 14,  3,  9, 13, 11, 19, 10,  8,  4, 15, 18,  5, 12,  1,\n",
              "        16,  2,  0]),\n",
              " array([ 7,  4, 16,  9, 12,  8,  1, 17, 10,  6, 14, 18,  3,  0, 19, 13,  2,\n",
              "         5, 11, 15]),\n",
              " array([ 4, 15, 16,  0,  1, 17,  9,  7,  5, 19,  8,  3,  6,  2, 10, 13, 18,\n",
              "        11, 12, 14]),\n",
              " array([ 0,  9, 14,  3, 13, 17, 16, 10,  6,  2,  1,  5,  8, 11, 12, 18, 15,\n",
              "        19,  7,  4]),\n",
              " array([ 8,  6, 18, 15,  1, 13, 14,  5,  9,  3, 16, 11,  4, 17, 12,  2, 19,\n",
              "         7,  0, 10]),\n",
              " array([ 4, 19,  0, 12,  1,  8, 18,  6, 14,  9,  3, 11, 10, 15, 17, 13,  2,\n",
              "         7,  5, 16]),\n",
              " array([16,  7, 13,  4,  3,  6,  2, 12, 10, 18, 19,  1,  5,  8, 11,  0, 15,\n",
              "         9, 14, 17]),\n",
              " array([11,  4, 15, 10, 17, 13,  3, 12,  1,  6,  8,  0,  2, 18, 16,  7, 19,\n",
              "        14,  5,  9])]"
            ]
          },
          "metadata": {},
          "execution_count": 45
        }
      ]
    },
    {
      "cell_type": "code",
      "execution_count": null,
      "metadata": {
        "id": "CY5eASw12764"
      },
      "outputs": [],
      "source": [
        "#crear la función de fitness\n",
        "#fitness es la distancia total entre los genes que tiene cada individuo\n",
        "#generamos fitness como un score, cuando mayor es fitness más corta es la distancia.\n",
        "def fitnessFunc(population, pos):\n",
        "  fitness = [getTotalDistanceFunc(parent,pos) for parent in population] #calcula la distancia total para cada individuo de la poblacion.\n",
        "  min_distance = min(fitness)\n",
        "  mean_distance = np.mean(fitness)\n",
        "  fitness = np.array(fitness)\n",
        "#cuanto mayor es fitness, al hacer la resta, convierte fitness en un número más chico.\n",
        "  fitness = fitness.max() - fitness + 1 #la max fitness de la población - fitness de cada individuo + 1, para no tener ningún valor 0.\n",
        "  fitness = fitness/fitness.sum() # las proporciones más altas son las distancias más cortas\n",
        "  return fitness, min_distance, mean_distance\n",
        "\n",
        "\n",
        "\n",
        "fitness, min_distance, mean_distance = fitnessFunc(initial_population, pos) #la funcion devuelve el valor de fitness de cada individuo, la distancia minima y la distancia promedio."
      ]
    },
    {
      "cell_type": "code",
      "execution_count": null,
      "metadata": {
        "id": "Za8ssKrf60xh"
      },
      "outputs": [],
      "source": [
        "#definir la función de mutación\n",
        "#para cada gen, se genera un número aleatorio, si es menor a la mutation_rate, entonces se muta.\n",
        "def mutationFunc(individual, n_points, mutation_rate=0.001):\n",
        "  for i in range(n_points):\n",
        "    if(np.random.random()<mutation_rate):\n",
        "      mutation = np.random.randint(n_points) #se elige una posición aleatoria de cada individuo\n",
        "      # change order of two genes\n",
        "      temp = individual[mutation]\n",
        "      individual[mutation] = individual[i]\n",
        "      individual[i] = temp\n",
        "  return individual"
      ]
    },
    {
      "cell_type": "code",
      "execution_count": null,
      "metadata": {
        "colab": {
          "base_uri": "https://localhost:8080/"
        },
        "id": "42dsCU_58D1a",
        "outputId": "2560f3ff-68f2-409d-a148-64659923aa3b"
      },
      "outputs": [
        {
          "output_type": "execute_result",
          "data": {
            "text/plain": [
              "array([ 2, 15, 13, 11, 12,  3,  7,  8,  6, 19, 14, 10, 17, 16,  9,  4, 18,\n",
              "        0,  5,  1])"
            ]
          },
          "metadata": {},
          "execution_count": 48
        }
      ],
      "source": [
        "individual = mutationFunc(initial_population[0], n_points)\n",
        "individual"
      ]
    },
    {
      "cell_type": "code",
      "execution_count": null,
      "metadata": {
        "id": "7XYZMKyD-SLv"
      },
      "outputs": [],
      "source": [
        "def combineGenesFunc(parent1,parent2, n_points):\n",
        "  parent1 = list(parent1)\n",
        "  parent2 = list(parent2)\n",
        "  individual = parent1.copy()\n",
        "  for i in range(n_points):\n",
        "    if(np.random.random() < 0.5): #prob de cruzamiento\n",
        "      idx = individual.index(parent2[i])\n",
        "      individual[idx] = individual[i]\n",
        "      individual[i] = parent2[i]\n",
        "  return individual"
      ]
    },
    {
      "cell_type": "code",
      "execution_count": null,
      "metadata": {
        "colab": {
          "base_uri": "https://localhost:8080/"
        },
        "id": "e62--7nT-q1d",
        "outputId": "709af8fe-994c-4df3-e8e5-4a9d0a5b9f81"
      },
      "outputs": [
        {
          "output_type": "stream",
          "name": "stdout",
          "text": [
            "[11, 2, 17, 7, 12, 8, 4, 1, 16, 10, 14, 3, 13, 0, 9, 15, 18, 19, 5, 6]\n"
          ]
        }
      ],
      "source": [
        "individual = combineGenesFunc(initial_population[0], initial_population[1], n_points)\n",
        "\n",
        "individual = [int(x) for x in individual]\n",
        "\n",
        "print(individual)"
      ]
    },
    {
      "cell_type": "code",
      "execution_count": 1,
      "metadata": {
        "colab": {
          "base_uri": "https://localhost:8080/",
          "height": 332
        },
        "id": "4GvT0A-h-vwA",
        "outputId": "eb69264f-ac79-4d1a-c851-78a591b3baa4"
      },
      "outputs": [
        {
          "output_type": "error",
          "ename": "NameError",
          "evalue": "name 'np' is not defined",
          "traceback": [
            "\u001b[0;31m---------------------------------------------------------------------------\u001b[0m",
            "\u001b[0;31mNameError\u001b[0m                                 Traceback (most recent call last)",
            "\u001b[0;32m/tmp/ipython-input-2469475161.py\u001b[0m in \u001b[0;36m<cell line: 0>\u001b[0;34m()\u001b[0m\n\u001b[1;32m      6\u001b[0m \u001b[0mmean_distance\u001b[0m \u001b[0;34m=\u001b[0m \u001b[0;34m[\u001b[0m\u001b[0;34m]\u001b[0m\u001b[0;34m\u001b[0m\u001b[0;34m\u001b[0m\u001b[0m\n\u001b[1;32m      7\u001b[0m \u001b[0;34m\u001b[0m\u001b[0m\n\u001b[0;32m----> 8\u001b[0;31m \u001b[0mpos\u001b[0m \u001b[0;34m=\u001b[0m \u001b[0;34m{\u001b[0m \u001b[0mi\u001b[0m\u001b[0;34m:\u001b[0m\u001b[0;34m(\u001b[0m\u001b[0mnp\u001b[0m\u001b[0;34m.\u001b[0m\u001b[0mrandom\u001b[0m\u001b[0;34m.\u001b[0m\u001b[0mrandom\u001b[0m\u001b[0;34m(\u001b[0m\u001b[0;34m)\u001b[0m\u001b[0;34m,\u001b[0m\u001b[0mnp\u001b[0m\u001b[0;34m.\u001b[0m\u001b[0mrandom\u001b[0m\u001b[0;34m.\u001b[0m\u001b[0mrandom\u001b[0m\u001b[0;34m(\u001b[0m\u001b[0;34m)\u001b[0m\u001b[0;34m)\u001b[0m \u001b[0;32mfor\u001b[0m \u001b[0mi\u001b[0m \u001b[0;32min\u001b[0m \u001b[0mrange\u001b[0m\u001b[0;34m(\u001b[0m\u001b[0mn_points\u001b[0m\u001b[0;34m)\u001b[0m\u001b[0;34m}\u001b[0m\u001b[0;34m\u001b[0m\u001b[0;34m\u001b[0m\u001b[0m\n\u001b[0m\u001b[1;32m      9\u001b[0m \u001b[0;34m\u001b[0m\u001b[0m\n\u001b[1;32m     10\u001b[0m \u001b[0mcurrent_population\u001b[0m \u001b[0;34m=\u001b[0m \u001b[0mpopulationFunc\u001b[0m\u001b[0;34m(\u001b[0m\u001b[0mn_population\u001b[0m\u001b[0;34m,\u001b[0m \u001b[0mpos\u001b[0m\u001b[0;34m)\u001b[0m\u001b[0;34m\u001b[0m\u001b[0;34m\u001b[0m\u001b[0m\n",
            "\u001b[0;32m/tmp/ipython-input-2469475161.py\u001b[0m in \u001b[0;36m<dictcomp>\u001b[0;34m(.0)\u001b[0m\n\u001b[1;32m      6\u001b[0m \u001b[0mmean_distance\u001b[0m \u001b[0;34m=\u001b[0m \u001b[0;34m[\u001b[0m\u001b[0;34m]\u001b[0m\u001b[0;34m\u001b[0m\u001b[0;34m\u001b[0m\u001b[0m\n\u001b[1;32m      7\u001b[0m \u001b[0;34m\u001b[0m\u001b[0m\n\u001b[0;32m----> 8\u001b[0;31m \u001b[0mpos\u001b[0m \u001b[0;34m=\u001b[0m \u001b[0;34m{\u001b[0m \u001b[0mi\u001b[0m\u001b[0;34m:\u001b[0m\u001b[0;34m(\u001b[0m\u001b[0mnp\u001b[0m\u001b[0;34m.\u001b[0m\u001b[0mrandom\u001b[0m\u001b[0;34m.\u001b[0m\u001b[0mrandom\u001b[0m\u001b[0;34m(\u001b[0m\u001b[0;34m)\u001b[0m\u001b[0;34m,\u001b[0m\u001b[0mnp\u001b[0m\u001b[0;34m.\u001b[0m\u001b[0mrandom\u001b[0m\u001b[0;34m.\u001b[0m\u001b[0mrandom\u001b[0m\u001b[0;34m(\u001b[0m\u001b[0;34m)\u001b[0m\u001b[0;34m)\u001b[0m \u001b[0;32mfor\u001b[0m \u001b[0mi\u001b[0m \u001b[0;32min\u001b[0m \u001b[0mrange\u001b[0m\u001b[0;34m(\u001b[0m\u001b[0mn_points\u001b[0m\u001b[0;34m)\u001b[0m\u001b[0;34m}\u001b[0m\u001b[0;34m\u001b[0m\u001b[0;34m\u001b[0m\u001b[0m\n\u001b[0m\u001b[1;32m      9\u001b[0m \u001b[0;34m\u001b[0m\u001b[0m\n\u001b[1;32m     10\u001b[0m \u001b[0mcurrent_population\u001b[0m \u001b[0;34m=\u001b[0m \u001b[0mpopulationFunc\u001b[0m\u001b[0;34m(\u001b[0m\u001b[0mn_population\u001b[0m\u001b[0;34m,\u001b[0m \u001b[0mpos\u001b[0m\u001b[0;34m)\u001b[0m\u001b[0;34m\u001b[0m\u001b[0;34m\u001b[0m\u001b[0m\n",
            "\u001b[0;31mNameError\u001b[0m: name 'np' is not defined"
          ]
        }
      ],
      "source": [
        "n_population = 1000 #numero de individuos en la poblacion\n",
        "epochs = 1000 #epoch es un ciclo completo de entrenamiento.  En este caso cada epoch se asimila a una generacion.\n",
        "n_points = 20\n",
        "min_path_distance = []\n",
        "min_distance = []\n",
        "mean_distance = []\n",
        "\n",
        "pos = { i:(np.random.random(),np.random.random()) for i in range(n_points)}\n",
        "\n",
        "current_population = populationFunc(n_population, pos)\n",
        "fitness, min_distance_value, mean_distance_value = fitnessFunc(initial_population, pos)\n",
        "\n",
        "for t in range(epochs):\n",
        "  ########################\n",
        "  #Creo una nueva población\n",
        "  new_generation = []\n",
        "  for _ in range(n_population-1):\n",
        "    #selecciona los padres en base a la fitness\n",
        "    parents = np.random.choice(n_population,p=fitness,size=2,replace=False)\n",
        "    parent1 = current_population[parents[0]]\n",
        "    parent2 = current_population[parents[1]]\n",
        "    new_individual = combineGenesFunc(parent1,parent2, n_points)\n",
        "    new_individual = mutationFunc(new_individual, n_points)\n",
        "    new_generation.append(new_individual)\n",
        "  ########################\n",
        "\n",
        "  # trae la posición del individuo que tiene la max fitness\n",
        "  idx = np.where(fitness == fitness.max())[0][0]\n",
        "  # el mejor individuo de la generación anterior prevalece y forma parte de la nueva generación\n",
        "  new_generation.append(current_population[idx])\n",
        "  current_population = new_generation\n",
        "  # nuevo fitness\n",
        "  fitness, min_distance_value, mean_distance_value  = fitnessFunc(current_population, pos)\n",
        "  min_distance.append(min_distance_value)\n",
        "  mean_distance.append(mean_distance_value)\n",
        "\n",
        "  # get best path each 100 epochs\n",
        "  #para cada 100 epochs se calcula la mínima distancia.\n",
        "  if(t % 100 == 0):\n",
        "    min_idx = np.where(fitness == fitness.max())[0][0]\n",
        "    d = getTotalDistanceFunc(current_population[min_idx],pos)\n",
        "    print(t,d)\n",
        "    if(d not in min_path_distance):\n",
        "      min_path_distance.append(d)\n",
        "\n",
        "      draw_edges = current_population[min_idx].copy()\n",
        "      draw_edges = list(draw_edges)\n",
        "      draw_edges.append(draw_edges[0])\n",
        "\n",
        "      G = nx.Graph()\n",
        "      for i in range(n_points):\n",
        "        G.add_node(i)\n",
        "\n",
        "      for i in range(len(draw_edges)-1):\n",
        "        G.add_edge(draw_edges[i],draw_edges[i+1])\n",
        "\n",
        "      nx.draw(G,pos, with_labels=True)\n",
        "      plt.show()\n"
      ]
    }
  ],
  "metadata": {
    "colab": {
      "collapsed_sections": [
        "qg2O4Vs7rGTC"
      ],
      "provenance": [],
      "include_colab_link": true
    },
    "kernelspec": {
      "display_name": "Python 3",
      "name": "python3"
    },
    "language_info": {
      "name": "python"
    }
  },
  "nbformat": 4,
  "nbformat_minor": 0
}